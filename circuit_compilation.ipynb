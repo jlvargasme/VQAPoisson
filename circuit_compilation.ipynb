{
 "cells": [
  {
   "cell_type": "code",
   "execution_count": 2,
   "metadata": {},
   "outputs": [
    {
     "name": "stdout",
     "output_type": "stream",
     "text": [
      "Circuit depth: 3\n"
     ]
    }
   ],
   "source": [
    "from qiskit import QuantumCircuit, QuantumRegister\n",
    "import numpy as np\n",
    "import qiskit.quantum_info as qi\n",
    "from qiskit import transpile \n",
    "from qiskit.providers.fake_provider import FakeWashingtonV2\n",
    "\n",
    "def create_shift_matrix(N):\n",
    "    # Create an n x n identity matrix using NumPy\n",
    "    op = np.identity(N)\n",
    "    # Swap the first and last rows\n",
    "    op = np.roll(op,1,axis=0)\n",
    "    return op\n",
    "\n",
    "# circuit from matrix experiment\n",
    "nq = 2\n",
    "n = 2**nq\n",
    "P = create_shift_matrix(n)\n",
    "\n",
    "ccn_gate = qi.Operator(P)\n",
    "ccn_qc = QuantumCircuit(nq)\n",
    "ccn_qc.unitary(ccn_gate, range(nq), label=\"Shift\")\n",
    "\n",
    "## transpile circuit from matrix\n",
    "\n",
    "backend = FakeWashingtonV2()\n",
    "\n",
    "transpiled_qc = transpile(ccn_qc,\n",
    "                          backend=backend,\n",
    "                          optimization_level=2)\n",
    "print(\"Circuit depth: \" + str(transpiled_qc.depth()))\n",
    "# transpiled_qc.draw()\n",
    "\n",
    "# ccn_qc.draw(\"mpl\")\n",
    "# print(P)"
   ]
  },
  {
   "cell_type": "code",
   "execution_count": 2,
   "metadata": {},
   "outputs": [
    {
     "name": "stdout",
     "output_type": "stream",
     "text": [
      "Circuit depth: 2\n"
     ]
    }
   ],
   "source": [
    "def shift(N):\n",
    "    qc = QuantumCircuit(N)\n",
    "    qreg = QuantumRegister(N, 'q')\n",
    "\n",
    "    for i in reversed(range(1, N)):\n",
    "        qc.mct(qreg[:i], qreg[i])\n",
    "    qc.x(qreg[0])\n",
    "\n",
    "    return qc\n",
    "\n",
    "# implement shift operator directly\n",
    "# c3 = QuantumCircuit(4)\n",
    "# c3.mct([0,1,2], [3])\n",
    "# c3.mct([0,1], [2])\n",
    "# c3.mct([0], [1])\n",
    "# c3.x(0)\n",
    "# c3.draw(fold=-1)\n",
    "# print(qi.Operator(c3).data.real)\n",
    "nq = 2\n",
    "c3 = shift(nq)\n",
    "\n",
    "transpiled_qc = transpile(c3,\n",
    "                          backend=backend,\n",
    "                          optimization_level=3)\n",
    "print(\"Circuit depth: \" + str(transpiled_qc.depth()))\n",
    "# transpiled_qc.draw()"
   ]
  },
  {
   "cell_type": "code",
   "execution_count": 8,
   "metadata": {},
   "outputs": [
    {
     "name": "stdout",
     "output_type": "stream",
     "text": [
      "                     ░                     ┌───┐\n",
      "q_0: ──■─────────────░─────────────■────■──┤ X ├\n",
      "       │             ░             │  ┌─┴─┐└───┘\n",
      "q_1: ──■─────────────░─────────────■──┤ X ├─────\n",
      "     ┌─┴─┐           ░           ┌─┴─┐└───┘     \n",
      "q_2: ┤ X ├──■────────░───■────■──┤ X ├──────────\n",
      "     └───┘  │        ░   │  ┌─┴─┐└───┘          \n",
      "q_3: ───────■────────░───■──┤ X ├───────────────\n",
      "          ┌─┴─┐      ░ ┌─┴─┐└───┘               \n",
      "q_4: ─────┤ X ├──■───░─┤ X ├────────────────────\n",
      "          └───┘┌─┴─┐ ░ └───┘                    \n",
      "q_5: ──────────┤ X ├─░──────────────────────────\n",
      "               └───┘ ░                          \n",
      "Circuit depth: 83\n"
     ]
    }
   ],
   "source": [
    "# experiment from O(n) incrementer circuit\n",
    "def create_incrementer(N):\n",
    "    \n",
    "    if N == 1:\n",
    "        qc = QuantumCircuit(1)\n",
    "        qc.x(0)\n",
    "        return qc\n",
    "    elif N == 2:\n",
    "        qc = QuantumCircuit(2)\n",
    "        qc.cx(0,1)\n",
    "        qc.x(0)\n",
    "        return qc\n",
    "    \n",
    "    nq_total = N + (N - 2)\n",
    "\n",
    "    qc = QuantumCircuit(nq_total)\n",
    "\n",
    "    # add Toffoli gates\n",
    "    for i in range(0,N-2):\n",
    "        qc.ccx(i*2,i*2 + 1, i*2 + 2)\n",
    "    qc.cx(nq_total - 2, nq_total - 1)\n",
    "    qc.barrier()\n",
    "\n",
    "    # add CX gates\n",
    "    for i in range(N-3,-1,-1):\n",
    "        qc.ccx(i*2,i*2 + 1, i*2 + 2)\n",
    "        qc.cx(i*2, i*2 + 1)\n",
    "\n",
    "    qc.x(0)\n",
    "\n",
    "    return qc\n",
    "\n",
    "nq = 4\n",
    "inc = create_incrementer(nq)\n",
    "print(inc)\n",
    "\n",
    "# print(qi.Operator(inc).data.real)\n",
    "# inc.draw(fold=-1)\n",
    "\n",
    "## qiskit transpilation\n",
    "transpiled_qc = transpile(inc,\n",
    "                          backend=backend,\n",
    "                          optimization_level=3)\n",
    "print(\"Circuit depth: \" + str(transpiled_qc.depth()))\n",
    "# transpiled_qc.draw()\n",
    "\n"
   ]
  },
  {
   "cell_type": "code",
   "execution_count": 32,
   "metadata": {},
   "outputs": [
    {
     "name": "stdout",
     "output_type": "stream",
     "text": [
      "                               ░                     ┌───┐\n",
      "       qreg_0: ──■─────────────░─────────────■────■──┤ X ├\n",
      "                 │             ░             │  ┌─┴─┐└───┘\n",
      "       qreg_1: ──■─────────────░─────────────■──┤ X ├─────\n",
      "                 │             ░      ┌───┐  │  └───┘     \n",
      "       qreg_2: ──┼────■────────░───■──┤ X ├──┼────────────\n",
      "                 │    │  ┌───┐ ░   │  └─┬─┘  │            \n",
      "       qreg_3: ──┼────┼──┤ X ├─░───┼────┼────┼────────────\n",
      "               ┌─┴─┐  │  └─┬─┘ ░   │    │  ┌─┴─┐          \n",
      "inc_ancilla_0: ┤ X ├──■────┼───░───■────■──┤ X ├──────────\n",
      "               └───┘┌─┴─┐  │   ░ ┌─┴─┐     └───┘          \n",
      "inc_ancilla_1: ─────┤ X ├──■───░─┤ X ├────────────────────\n",
      "                    └───┘      ░ └───┘                    \n"
     ]
    }
   ],
   "source": [
    "# organize incrementer in intuitive order\n",
    "def qubit_list(qreg, inc_reg):\n",
    "\n",
    "    q_list = [qreg[0]]\n",
    "    for i in range(len(qreg)-2):\n",
    "        q_list.append(qreg[i+1])\n",
    "        q_list.append(inc_reg[i])\n",
    "    q_list.append(qreg[-1])\n",
    "\n",
    "    return q_list\n",
    "\n",
    "nq = 4\n",
    "qreg = QuantumRegister(nq, 'qreg')\n",
    "inc_reg = QuantumRegister(nq - 2, 'inc_ancilla')\n",
    "inc = QuantumCircuit(qreg, inc_reg)\n",
    "\n",
    "# implement linear shift operator\n",
    "inc.compose(create_incrementer(nq), qubits=qubit_list(qreg, inc_reg), inplace=True)\n",
    "print(inc)"
   ]
  },
  {
   "cell_type": "code",
   "execution_count": 35,
   "metadata": {},
   "outputs": [
    {
     "name": "stdout",
     "output_type": "stream",
     "text": [
      "[0. 0. 0. 0. 0. 0. 0. 0. 0. 0. 0. 0. 0. 0. 0. 1. 0. 0. 0. 0. 0. 0. 0. 0.\n",
      " 0. 0. 0. 0. 0. 0. 0. 0. 0. 0. 0. 0. 0. 0. 0. 0. 0. 0. 0. 0. 0. 0. 0. 0.\n",
      " 0. 0. 0. 0. 0. 0. 0. 0. 0. 0. 0. 0. 0. 0. 0. 0.]\n",
      "[1. 0. 0. 0. 0. 0. 0. 0. 0. 0. 0. 0. 0. 0. 0. 0. 0. 0. 0. 0. 0. 0. 0. 0.\n",
      " 0. 0. 0. 0. 0. 0. 0. 0. 0. 0. 0. 0. 0. 0. 0. 0. 0. 0. 0. 0. 0. 0. 0. 0.\n",
      " 0. 0. 0. 0. 0. 0. 0. 0. 0. 0. 0. 0. 0. 0. 0. 0.]\n"
     ]
    }
   ],
   "source": [
    "from qiskit.quantum_info import Statevector\n",
    "\n",
    "# verifiy optimized circuit evolves state accordingly\n",
    "initial_state = Statevector.from_label('001111')\n",
    "print(initial_state.data.real)\n",
    "# Evolve the initial state using the circuit\n",
    "final_state = initial_state.evolve(inc)\n",
    "\n",
    "print(final_state.data.real)"
   ]
  },
  {
   "cell_type": "code",
   "execution_count": 75,
   "metadata": {},
   "outputs": [],
   "source": [
    "def quantum_subtracter(N):\n",
    "    nq_total = 2*N\n",
    "    qc = QuantumCircuit(nq_total)\n",
    "\n",
    "    for i in range(0, N-1):\n",
    "        qc.cx(2*i, 2*i+1)\n",
    "        qc.cx(2*i+2, 2*i)\n",
    "        qc.ccx(2*i, 2*i + 1, 2*i + 2)\n",
    "    \n",
    "    qc.cx(nq_total-2, nq_total-1)\n",
    "\n",
    "    for i in range(N-2,-1,-1):\n",
    "        qc.ccx(2*i, 2*i+1, 2*i + 2)\n",
    "        qc.cx(2*i+2, 2*i)\n",
    "        qc.cx(2*i+2, 2*i+1)\n",
    "        # qc.barrier()\n",
    "\n",
    "    return qc\n",
    "\n",
    "def general_quantum_incrementer(N):\n",
    "    nq_total = 2*N\n",
    "    qc = QuantumCircuit(nq_total)\n",
    "\n",
    "    target_bits = [ 2*i + 1 for i in range(N)]\n",
    "    qc.mcx([0], target_bits)\n",
    "    # qc.barrier()\n",
    "\n",
    "    for i in range(1, N):\n",
    "        qc.x(2*i)\n",
    "    qc.x(2*N - 1)\n",
    "    # qc.barrier()\n",
    "\n",
    "    # subtractor\n",
    "    sub = quantum_subtracter(N)\n",
    "    qc.compose(sub, inplace=True)\n",
    "\n",
    "    for i in range(1, N):\n",
    "        qc.x(2*i)\n",
    "\n",
    "    # qc.barrier()\n",
    "\n",
    "    # subtractor\n",
    "    qc.compose(sub, inplace=True)\n",
    "\n",
    "    qc.mcx([0], target_bits)\n",
    "\n",
    "    return qc"
   ]
  },
  {
   "cell_type": "code",
   "execution_count": 89,
   "metadata": {},
   "outputs": [
    {
     "name": "stdout",
     "output_type": "stream",
     "text": [
      "Circuit depth: 1032\n"
     ]
    }
   ],
   "source": [
    "nq = 10\n",
    "# ginc = quantum_subtracter(nq)\n",
    "ginc = general_quantum_incrementer(nq)\n",
    "\n",
    "# print(qi.Operator(inc).data.real)\n",
    "# ginc.draw(fold=-1)\n",
    "\n",
    "transpiled_qc = transpile(ginc,\n",
    "                          backend=backend,\n",
    "                          optimization_level=3)\n",
    "print(\"Circuit depth: \" + str(transpiled_qc.depth()))\n",
    "\n",
    "# from qiskit.quantum_info import Statevector\n",
    "\n",
    "# # verifiy optimized circuit evolves state accordingly\n",
    "# initial_state = Statevector.from_label('00')\n",
    "# print(initial_state.data.real)\n",
    "# # Evolve the initial state using the circuit\n",
    "# final_state = initial_state.evolve(ginc)\n",
    "\n",
    "# print(final_state.data.real)\n"
   ]
  },
  {
   "cell_type": "code",
   "execution_count": null,
   "metadata": {},
   "outputs": [],
   "source": [
    "# BQSKit tooling\n",
    "import bqskit\n",
    "from bqskit.ext import qiskit_to_bqskit, bqskit_to_qiskit\n",
    "from bqskit.compiler.compile import build_workflow\n",
    "\n",
    "\n",
    "c3_bqskit = qiskit_to_bqskit(c3)\n",
    "default_opt1_workflow = build_workflow(c3_bqskit, optimization_level=1)\n",
    "print(default_opt1_workflow)"
   ]
  },
  {
   "cell_type": "code",
   "execution_count": null,
   "metadata": {},
   "outputs": [],
   "source": [
    "from bqskit.compiler import Workflow\n",
    "from bqskit.passes import QuickPartitioner, ForEachBlockPass, ScanningGateRemovalPass, UnfoldPass\n",
    "\n",
    "basic_gate_deletion_workflow = Workflow([\n",
    "    QuickPartitioner(3),  # Partition into 3-qubit blocks\n",
    "    ForEachBlockPass(ScanningGateRemovalPass()),  # Apply gate deletion to each block (in parallel)\n",
    "    UnfoldPass(),  # Unfold the blocks back into the original circuit\n",
    "])"
   ]
  },
  {
   "cell_type": "code",
   "execution_count": null,
   "metadata": {},
   "outputs": [],
   "source": [
    "from bqskit.compiler import Compiler\n",
    "\n",
    "with Compiler() as compiler:\n",
    "    opt_circuit = compiler.compile(qiskit_to_bqskit(c3), workflow=basic_gate_deletion_workflow)\n",
    "\n",
    "print(opt_circuit.gate_counts)\n",
    "c3_opt = bqskit_to_qiskit(opt_circuit)\n",
    "print(\"Circuit depth: \" + str(c3_opt.depth()))\n",
    "c3_opt.draw()"
   ]
  }
 ],
 "metadata": {
  "kernelspec": {
   "display_name": "Examples",
   "language": "python",
   "name": "python3"
  },
  "language_info": {
   "codemirror_mode": {
    "name": "ipython",
    "version": 3
   },
   "file_extension": ".py",
   "mimetype": "text/x-python",
   "name": "python",
   "nbconvert_exporter": "python",
   "pygments_lexer": "ipython3",
   "version": "3.11.6"
  }
 },
 "nbformat": 4,
 "nbformat_minor": 2
}
