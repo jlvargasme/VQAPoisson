{
 "cells": [
  {
   "cell_type": "code",
   "execution_count": null,
   "metadata": {},
   "outputs": [],
   "source": [
    "## Test file for Shift Operator\n",
    "\n",
    "def shift_add(qc):\n",
    "\n",
    "    if not self.use_mct_ancilla:\n",
    "        for i in reversed(range(1, self.num_qubits)):\n",
    "            qc.mct(self.qreg[:i], self.qreg[i])\n",
    "        qc.x(self.qreg[0])\n",
    "    else:\n",
    "        qreg_shift_ancilla = QuantumRegister(self.num_qubits-3, 'q_shift_ancilla')\n",
    "        qc.add_register(qreg_shift_ancilla)\n",
    "        for i in reversed(range(1, self.num_qubits)):\n",
    "            qc.mct(self.qreg[:i], self.qreg[i], qreg_shift_ancilla, mode='v-chain')\n",
    "        qc.x(self.qreg[0])\n",
    "\n",
    "    return qc"
   ]
  }
 ],
 "metadata": {
  "language_info": {
   "name": "python"
  }
 },
 "nbformat": 4,
 "nbformat_minor": 2
}
