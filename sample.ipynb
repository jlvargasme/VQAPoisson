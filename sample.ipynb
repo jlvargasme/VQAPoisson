{
 "cells": [
  {
   "cell_type": "code",
   "execution_count": 1,
   "metadata": {},
   "outputs": [
    {
     "data": {
      "text/html": [
       "<h3>Version Information</h3><table><tr><th>Software</th><th>Version</th></tr><tr><td><code>qiskit</code></td><td>0.44.1</td></tr><tr><td><code>qiskit-terra</code></td><td>0.25.1</td></tr><tr><th colspan='2'>System information</th></tr><tr><td>Python version</td><td>3.11.6</td></tr><tr><td>Python compiler</td><td>MSC v.1935 64 bit (AMD64)</td></tr><tr><td>Python build</td><td>tags/v3.11.6:8b6ee5b, Oct  2 2023 14:57:12</td></tr><tr><td>OS</td><td>Windows</td></tr><tr><td>CPUs</td><td>24</td></tr><tr><td>Memory (Gb)</td><td>15.643688201904297</td></tr><tr><td colspan='2'>Fri Nov 03 10:18:06 2023 Eastern Daylight Time</td></tr></table>"
      ],
      "text/plain": [
       "<IPython.core.display.HTML object>"
      ]
     },
     "metadata": {},
     "output_type": "display_data"
    }
   ],
   "source": [
    "import qiskit.tools.jupyter\n",
    "%qiskit_version_table"
   ]
  },
  {
   "cell_type": "code",
   "execution_count": 2,
   "metadata": {},
   "outputs": [],
   "source": [
    "import time\n",
    "\n",
    "import numpy as np\n",
    "import matplotlib.pyplot as plt\n",
    "from tqdm.auto import tqdm\n",
    "from qiskit import QuantumCircuit, Aer\n",
    "from qiskit.utils import QuantumInstance\n",
    "\n",
    "from vqa_poisson import VQAforPoisson"
   ]
  },
  {
   "cell_type": "markdown",
   "metadata": {},
   "source": [
    "## Experiments"
   ]
  },
  {
   "cell_type": "code",
   "execution_count": 3,
   "metadata": {},
   "outputs": [],
   "source": [
    "def experiment(bc, num_trials, num_qubits_list, num_layers, qins):\n",
    "    \n",
    "    print('-----------'+bc+' boundary condition --------------')\n",
    "    \n",
    "    data = {'num_qubits':[], 'obj_count':[], 'circ_count':[], 'iter_count':[], 'err':[], 'params':[], 'q_sol':[], 'cl_sol':[]}\n",
    "    \n",
    "    for num_qubits in tqdm(num_qubits_list):\n",
    "        print('-------------------------')\n",
    "        print('num_qubits:', num_qubits)\n",
    "        \n",
    "        # set oracle for f vector\n",
    "        oracle_f = QuantumCircuit(num_qubits)\n",
    "        oracle_f.x(num_qubits-1)\n",
    "        oracle_f.h(oracle_f.qubits)\n",
    "    \n",
    "        # set vqa instance\n",
    "        vqa = VQAforPoisson(num_qubits, num_layers, bc, oracle_f=oracle_f, qinstance=qins, two_dim=True)\n",
    "\n",
    "\n",
    "        obj_counts = []\n",
    "        circ_counts = []\n",
    "        iter_counts = []\n",
    "        err = []\n",
    "        params = []\n",
    "        q_sol = []\n",
    "    \n",
    "        for seed in range(num_trials):\n",
    "        \n",
    "            np.random.seed(seed)\n",
    "            x0 = list(4*np.pi*np.random.rand(vqa.num_params))\n",
    "            print(x0)\n",
    "            #vqa.print_matrix(x0)\n",
    "            \n",
    "            res = vqa.minimize(x0, method='bfgs', save_logs=True)\n",
    "            \n",
    "    \n",
    "            obj_counts.append(vqa.objective_counts)\n",
    "            circ_counts.append(vqa.circuit_counts)\n",
    "            iter_counts.append(len(vqa.objective_count_logs))\n",
    "            err.append(vqa.get_errors(res['x'])['trace'])\n",
    "            params.append(res['x'])\n",
    "            q_sol.append(vqa.get_sol(res['x']).real)\n",
    "            vqa.print_matrix(res['x'])\n",
    "            \n",
    "            print('trial:', seed, 'Err.:', err[-1])\n",
    "        \n",
    "        data['num_qubits'].append(num_qubits)\n",
    "        data['obj_count'].append(obj_counts)\n",
    "        data['circ_count'].append(circ_counts)\n",
    "        data['iter_count'].append(iter_counts)\n",
    "        data['err'].append(err)\n",
    "        data['params'].append(params)\n",
    "        data['q_sol'].append(q_sol)\n",
    "        data['cl_sol'].append(vqa.get_cl_sol().real)\n",
    "        \n",
    "    return data"
   ]
  },
  {
   "cell_type": "code",
   "execution_count": 6,
   "metadata": {},
   "outputs": [
    {
     "name": "stdout",
     "output_type": "stream",
     "text": [
      "-----------Dirichlet boundary condition --------------\n"
     ]
    },
    {
     "name": "stderr",
     "output_type": "stream",
     "text": [
      "C:\\Users\\jlvmi\\AppData\\Local\\Temp\\ipykernel_11448\\3448019119.py:6: DeprecationWarning: The class ``qiskit.utils.quantum_instance.QuantumInstance`` is deprecated as of qiskit-terra 0.24.0. It will be removed no earlier than 3 months after the release date. For code migration guidelines, visit https://qisk.it/qi_migration.\n",
      "  qins = QuantumInstance(Aer.get_backend('statevector_simulator'), seed_transpiler=42)\n"
     ]
    },
    {
     "data": {
      "application/vnd.jupyter.widget-view+json": {
       "model_id": "545a4b632b9046659ca33872e75ffb1a",
       "version_major": 2,
       "version_minor": 0
      },
      "text/plain": [
       "  0%|          | 0/1 [00:00<?, ?it/s]"
      ]
     },
     "metadata": {},
     "output_type": "display_data"
    },
    {
     "name": "stdout",
     "output_type": "stream",
     "text": [
      "-------------------------\n",
      "num_qubits: 4\n",
      "[6.896593888515826, 8.987334637284528, 7.574547976478632, 6.847204019070697, 5.323803221044644, 8.116544802428407, 5.498883072830878, 11.206350031706826, 12.109743395712375, 4.8184682344975025, 9.949110253214393, 6.646289577666751, 7.1382584801773445, 11.63139039619053, 0.8926654342978345, 1.0948990714191347, 0.2540718754635438, 10.463009560025881, 9.77860612850141, 10.932895093864325, 12.297680778506693, 10.042522697586502, 5.799120696948454, 9.808418904536085, 1.4862802696695647, 8.041484717920905, 1.8014305383688254, 11.871059719510393, 6.557739415592751, 5.210795617590082, 3.324503869815388, 9.729307483553026, 5.73215413049621, 7.143151671267129]\n",
      "It.: 00001, Obj.: -2.414423e-01\n",
      "It.: 00002, Obj.: -2.434667e-01\n",
      "It.: 00003, Obj.: -2.634838e-01\n",
      "It.: 00004, Obj.: -3.079084e-01\n",
      "It.: 00005, Obj.: -4.165322e-01\n",
      "It.: 00006, Obj.: -5.289142e-01\n",
      "It.: 00007, Obj.: -6.933591e-01\n",
      "It.: 00008, Obj.: -8.554982e-01\n",
      "It.: 00009, Obj.: -9.403775e-01\n",
      "It.: 00010, Obj.: -1.132689e+00\n",
      "It.: 00011, Obj.: -1.200227e+00\n",
      "It.: 00012, Obj.: -1.310339e+00\n",
      "It.: 00013, Obj.: -1.334540e+00\n",
      "It.: 00014, Obj.: -1.411827e+00\n",
      "It.: 00015, Obj.: -1.485893e+00\n",
      "It.: 00016, Obj.: -1.501296e+00\n",
      "It.: 00017, Obj.: -1.527446e+00\n",
      "It.: 00018, Obj.: -1.530503e+00\n",
      "It.: 00019, Obj.: -1.530687e+00\n",
      "It.: 00020, Obj.: -1.535156e+00\n",
      "It.: 00021, Obj.: -1.541008e+00\n",
      "It.: 00022, Obj.: -1.542654e+00\n",
      "It.: 00023, Obj.: -1.544704e+00\n",
      "It.: 00024, Obj.: -1.551732e+00\n",
      "It.: 00025, Obj.: -1.552015e+00\n",
      "It.: 00026, Obj.: -1.555565e+00\n",
      "It.: 00027, Obj.: -1.560529e+00\n",
      "It.: 00028, Obj.: -1.562824e+00\n",
      "It.: 00029, Obj.: -1.567778e+00\n",
      "It.: 00030, Obj.: -1.568818e+00\n",
      "It.: 00031, Obj.: -1.569075e+00\n",
      "It.: 00032, Obj.: -1.569366e+00\n",
      "It.: 00033, Obj.: -1.570092e+00\n",
      "It.: 00034, Obj.: -1.570536e+00\n",
      "It.: 00035, Obj.: -1.573771e+00\n",
      "[[-0.15266687+0.j  0.00856283+0.j  0.20262738+0.j  0.14949812+0.j\n",
      "  -0.33578   +0.j  0.15584978+0.j  0.21486793+0.j -0.25809462+0.j\n",
      "  -0.4951107 +0.j  0.03492874+0.j  0.31547055+0.j -0.13506355+0.j\n",
      "   0.18916405+0.j  0.24057116+0.j  0.45311366+0.j -0.01748076+0.j]\n",
      " [-0.23903798+0.j -0.2965822 +0.j -0.23439318+0.j  0.00307731+0.j\n",
      "  -0.29754007+0.j  0.07273407+0.j -0.4311301 +0.j -0.05737879+0.j\n",
      "  -0.4956116 +0.j -0.05836994+0.j -0.12462725+0.j  0.01609363+0.j\n",
      "   0.0927536 +0.j -0.30144881+0.j -0.37346638+0.j -0.11482058+0.j]\n",
      " [-0.29980109+0.j -0.12924923+0.j -0.12148587+0.j -0.23976583+0.j\n",
      "   0.11419177+0.j  0.01558683+0.j -0.36913413+0.j -0.08049862+0.j\n",
      "   0.27781673+0.j  0.51915668+0.j -0.08707682+0.j -0.12828223+0.j\n",
      "   0.420728  +0.j  0.25541443+0.j  0.21503515+0.j -0.07688651+0.j]\n",
      " [-0.32550123+0.j  0.32805443+0.j  0.19702241+0.j  0.17214275+0.j\n",
      "   0.12964566+0.j  0.36399172+0.j  0.31870399+0.j -0.05242985+0.j\n",
      "   0.07562959+0.j  0.01933253+0.j -0.17219655+0.j -0.26479394+0.j\n",
      "   0.38618493+0.j -0.17058993+0.j -0.41619621+0.j  0.0838995 +0.j]\n",
      " [-0.32326048+0.j -0.0340309 +0.j  0.06000468+0.j -0.09474343+0.j\n",
      "   0.21884736+0.j  0.1110828 +0.j -0.13303601+0.j  0.23153889+0.j\n",
      "   0.10647642+0.j -0.18185414+0.j  0.69361328+0.j  0.32433038+0.j\n",
      "   0.15089173+0.j -0.27492049+0.j  0.04749693+0.j  0.13755727+0.j]\n",
      " [-0.28506524+0.j -0.01771741+0.j  0.00359408+0.j  0.0288299 +0.j\n",
      "   0.16292653+0.j -0.17122883+0.j -0.01149636+0.j -0.22614008+0.j\n",
      "  -0.02083565+0.j -0.50203809+0.j -0.47252573+0.j  0.38478368+0.j\n",
      "   0.22064874+0.j  0.07252302+0.j  0.28708628+0.j  0.22419756+0.j]\n",
      " [-0.21075278+0.j  0.18011701+0.j -0.32325787+0.j -0.03336744+0.j\n",
      "   0.39343161+0.j  0.11942919+0.j -0.09651401+0.j -0.42561225+0.j\n",
      "  -0.00249731+0.j -0.27193975+0.j  0.15408418+0.j -0.30709118+0.j\n",
      "  -0.33824887+0.j  0.05375304+0.j  0.05231676+0.j -0.38206867+0.j]\n",
      " [-0.10821202+0.j  0.21327346+0.j  0.20775204+0.j -0.24540471+0.j\n",
      "   0.14603416+0.j  0.43873884+0.j -0.15071699+0.j  0.04727848+0.j\n",
      "  -0.27391476+0.j  0.20714359+0.j -0.12280123+0.j  0.3788401 +0.j\n",
      "  -0.37863214+0.j  0.37111708+0.j -0.1468787 +0.j  0.14645933+0.j]\n",
      " [ 0.07502029+0.j  0.02676667+0.j -0.5421526 +0.j -0.10352671+0.j\n",
      "  -0.40257426+0.j  0.21142578+0.j  0.20567856+0.j -0.2632137 +0.j\n",
      "   0.28468735+0.j -0.10173057+0.j  0.17732959+0.j  0.23634758+0.j\n",
      "   0.10818718+0.j  0.28873806+0.j -0.24215303+0.j  0.19555583+0.j]\n",
      " [ 0.20358491+0.j  0.4726756 +0.j  0.35279722+0.j -0.12859469+0.j\n",
      "  -0.36519924+0.j  0.0460902 +0.j -0.38891921+0.j -0.21071151+0.j\n",
      "   0.23021871+0.j -0.16292565+0.j  0.00570858+0.j  0.15236186+0.j\n",
      "   0.13677421+0.j -0.14020357+0.j  0.03172908+0.j -0.34758179+0.j]\n",
      " [ 0.27257673+0.j -0.15235999+0.j  0.10729361+0.j  0.68324884+0.j\n",
      "   0.21784571+0.j  0.1091435 +0.j -0.38767028+0.j -0.10465247+0.j\n",
      "   0.05948573+0.j -0.07911456+0.j  0.13376705+0.j  0.03011222+0.j\n",
      "   0.14045288+0.j  0.34020789+0.j -0.17961663+0.j  0.08490842+0.j]\n",
      " [ 0.30852764+0.j -0.47459125+0.j  0.11592866+0.j -0.2048776 +0.j\n",
      "   0.22290085+0.j  0.38462317+0.j  0.2735903 +0.j -0.07888722+0.j\n",
      "  -0.01224202+0.j -0.07488913+0.j -0.06957838+0.j  0.224313  +0.j\n",
      "   0.23608184+0.j -0.04820466+0.j  0.00326803+0.j -0.47589937+0.j]\n",
      " [ 0.31552509+0.j  0.47606716+0.j -0.47302713+0.j  0.09683468+0.j\n",
      "   0.23820074+0.j  0.02108282+0.j -0.00676556+0.j  0.21194283+0.j\n",
      "  -0.35384516+0.j  0.15145963+0.j -0.02990532+0.j  0.18665205+0.j\n",
      "   0.3230739 +0.j -0.1156037 +0.j  0.17139038+0.j -0.08676052+0.j]\n",
      " [ 0.29394945+0.j  0.02261903+0.j  0.11516791+0.j -0.52048959+0.j\n",
      "   0.16662725+0.j -0.16215886+0.j -0.11831448+0.j -0.00924649+0.j\n",
      "  -0.23640792+0.j -0.31047392+0.j  0.12906297+0.j -0.36078059+0.j\n",
      "   0.27929934+0.j  0.24195571+0.j -0.21714388+0.j  0.27921371+0.j]\n",
      " [ 0.2424727 +0.j -0.05337317+0.j  0.05913427+0.j -0.05322138+0.j\n",
      "   0.16310259+0.j  0.02496934+0.j -0.02995894+0.j -0.62915605+0.j\n",
      "  -0.03087973+0.j  0.32192424+0.j  0.04909242+0.j  0.0682491 +0.j\n",
      "  -0.06834804+0.j -0.46061149+0.j  0.05881905+0.j  0.41966326+0.j]\n",
      " [ 0.14324182+0.j -0.07517671+0.j -0.12366658+0.j -0.01409503+0.j\n",
      "  -0.12097754+0.j  0.59601843+0.j -0.21592063+0.j  0.2470558 +0.j\n",
      "   0.1405029 +0.j -0.2275346 +0.j -0.17417101+0.j -0.32232938+0.j\n",
      "  -0.08546633+0.j -0.17406033+0.j  0.39352655+0.j  0.28739672+0.j]]\n",
      "trial: 0 Err.: 0.04641128905044565\n"
     ]
    },
    {
     "name": "stderr",
     "output_type": "stream",
     "text": [
      "C:\\Users\\jlvmi\\AppData\\Local\\Temp\\ipykernel_11448\\3640082746.py:42: DeprecationWarning: The return type of saved statevectors has been changed from a `numpy.ndarray` to a `qiskit.quantum_info.Statevector` as of qiskit-aer 0.10. Accessing numpy array attributes is deprecated and will result in an error in a future release. To continue using saved result objects as arrays you can explicitly cast them using  `np.asarray(object)`.\n",
      "  q_sol.append(vqa.get_sol(res['x']).real)\n"
     ]
    }
   ],
   "source": [
    "t0 = time.time()\n",
    "optimizer = 'bfgs'\n",
    "num_layers = 5\n",
    "num_trials = 1\n",
    "num_qubits_list = [4]\n",
    "qins = QuantumInstance(Aer.get_backend('statevector_simulator'), seed_transpiler=42)\n",
    "\n",
    "# bc: Periodic\n",
    "data_p = experiment('Dirichlet', num_trials, num_qubits_list, num_layers, qins)"
   ]
  },
  {
   "cell_type": "markdown",
   "metadata": {},
   "source": [
    "## plots"
   ]
  },
  {
   "cell_type": "markdown",
   "metadata": {},
   "source": [
    "### distribution of solutions"
   ]
  },
  {
   "cell_type": "code",
   "execution_count": 7,
   "metadata": {},
   "outputs": [],
   "source": [
    "def global2grid(cl_sol):\n",
    "    N = len(cl_sol)\n",
    "    n = int(np.sqrt(N))\n",
    "    F = np.zeros((n,n))\n",
    "\n",
    "    for i in range(N):\n",
    "        xi = int(np.floor(i/n))\n",
    "        yi = int(i % n)\n",
    "        F[xi,yi] = cl_sol[i]\n",
    "\n",
    "    return F\n",
    "\n",
    "def plot_solution_vectors(q_sol, cl_sol):\n",
    "\n",
    "    fig = plt.figure()\n",
    "    ax = fig.add_subplot(111)\n",
    "    ax.plot(q_sol, label='quantum', color='black')\n",
    "    ax.plot(cl_sol, label='classical', color='black', linestyle='dashed')\n",
    "    ax.legend()\n",
    "    ax.set_xlabel('Node number')\n",
    "    ax.set_ylabel('Components of solution')\n",
    "\n",
    "    cnorm = np.linalg.norm(q_sol)\n",
    "    qnorm = np.linalg.norm(cl_sol)\n",
    "\n",
    "    ax.text(0.55, 0.65, 'Norm (quantum) = %.1f'%(qnorm), transform=ax.transAxes)\n",
    "    ax.text(0.55, 0.55, 'Norm (classical) = %.1f'%(cnorm), transform=ax.transAxes)\n",
    "    \n",
    "    return fig, ax\n",
    "\n",
    "def plot_solution_vectors_2D(q_sol, cl_sol, N):\n",
    "    \n",
    "    x = np.linspace(0, 1, N)\n",
    "    y = np.linspace(0, 1, N)\n",
    "\n",
    "    x, y = np.meshgrid(x, y) \n",
    "  \n",
    "    F = global2grid(q_sol)\n",
    "\n",
    "    fig, ax = plt.subplots(subplot_kw={\"projection\": \"3d\"})\n",
    "    ax.plot_surface(x, y, F) \n",
    "    \n",
    "    return fig, ax"
   ]
  },
  {
   "cell_type": "code",
   "execution_count": 8,
   "metadata": {},
   "outputs": [],
   "source": [
    "idx1, idx2 = 0, 0"
   ]
  },
  {
   "cell_type": "code",
   "execution_count": 9,
   "metadata": {},
   "outputs": [
    {
     "name": "stdout",
     "output_type": "stream",
     "text": [
      "Periodic boundary condition, num_qubits: 4\n",
      "[ 0.50592307  0.7921485   0.99351149  1.07867925  1.07125364  0.94467835\n",
      "  0.6984141   0.35860405 -0.24860991 -0.67466049 -0.90329262 -1.02243043\n",
      " -1.0456193  -0.97411975 -0.80353081 -0.47468939]\n"
     ]
    },
    {
     "data": {
      "image/png": "[encoded data removed]",
      "text/plain": [
       "<Figure size 640x480 with 1 Axes>"
      ]
     },
     "metadata": {},
     "output_type": "display_data"
    }
   ],
   "source": [
    "print('Periodic boundary condition, num_qubits:', data_p['num_qubits'][idx1])\n",
    "q_sol = data_p['q_sol'][idx1][idx2]\n",
    "cl_sol = data_p['cl_sol'][idx1]\n",
    "plot_solution_vectors_2D(q_sol, cl_sol, 4)\n",
    "print(q_sol)"
   ]
  },
  {
   "cell_type": "code",
   "execution_count": 8,
   "metadata": {},
   "outputs": [
    {
     "name": "stdout",
     "output_type": "stream",
     "text": [
      "elapsed time: 5.50e+02\n"
     ]
    }
   ],
   "source": [
    "print('elapsed time: %.2e'%(time.time() - t0))"
   ]
  },
  {
   "cell_type": "code",
   "execution_count": 11,
   "metadata": {},
   "outputs": [
    {
     "data": {
      "text/html": [
       "<pre style=\"word-wrap: normal;white-space: pre;background: #fff0;line-height: 1.1;font-family: &quot;Courier New&quot;,Courier,monospace\">     ┌───┐     \n",
       "q_0: ┤ H ├─────\n",
       "     ├───┤     \n",
       "q_1: ┤ H ├─────\n",
       "     ├───┤     \n",
       "q_2: ┤ H ├─────\n",
       "     ├───┤┌───┐\n",
       "q_3: ┤ X ├┤ H ├\n",
       "     └───┘└───┘</pre>"
      ],
      "text/plain": [
       "     ┌───┐     \n",
       "q_0: ┤ H ├─────\n",
       "     ├───┤     \n",
       "q_1: ┤ H ├─────\n",
       "     ├───┤     \n",
       "q_2: ┤ H ├─────\n",
       "     ├───┤┌───┐\n",
       "q_3: ┤ X ├┤ H ├\n",
       "     └───┘└───┘"
      ]
     },
     "execution_count": 11,
     "metadata": {},
     "output_type": "execute_result"
    }
   ],
   "source": [
    "oracle_f = QuantumCircuit(4)\n",
    "oracle_f.x(4-1)\n",
    "oracle_f.h(oracle_f.qubits)\n",
    "oracle_f.draw(fold=-1)"
   ]
  },
  {
   "cell_type": "code",
   "execution_count": 57,
   "metadata": {},
   "outputs": [],
   "source": [
    "from qiskit import execute, Aer\n",
    "\n",
    "f_vec = np.array(execute(oracle_f, Aer.get_backend('statevector_simulator')).result().get_statevector())"
   ]
  },
  {
   "cell_type": "code",
   "execution_count": 64,
   "metadata": {},
   "outputs": [],
   "source": [
    "def get_A_matrix():\n",
    "    num_qubits = 4\n",
    "\n",
    "    I0 = np.array([[1, 0], [0, 0]])\n",
    "    I = np.array([[1, 0], [0, 1]])\n",
    "    X = np.array([[0, 1], [1, 0]])\n",
    "\n",
    "    P = np.zeros((2**num_qubits, 2**num_qubits))\n",
    "    for i in range(2**num_qubits):\n",
    "        P[(i+1)%(2**num_qubits), i] = 1\n",
    "\n",
    "    A0 = I - X\n",
    "    for i in range(num_qubits-1):\n",
    "        A0 = np.kron(I, A0)\n",
    "    A1 = P.T @ A0 @ P\n",
    "\n",
    "    A = A0 + A1 + (1e-3)*np.eye(2**num_qubits)\n",
    "\n",
    "    return A"
   ]
  },
  {
   "cell_type": "code",
   "execution_count": 65,
   "metadata": {},
   "outputs": [
    {
     "name": "stdout",
     "output_type": "stream",
     "text": [
      "[[ 2.001 -1.     0.     0.     0.     0.     0.     0.     0.     0.\n",
      "   0.     0.     0.     0.     0.    -1.   ]\n",
      " [-1.     2.001 -1.     0.     0.     0.     0.     0.     0.     0.\n",
      "   0.     0.     0.     0.     0.     0.   ]\n",
      " [ 0.    -1.     2.001 -1.     0.     0.     0.     0.     0.     0.\n",
      "   0.     0.     0.     0.     0.     0.   ]\n",
      " [ 0.     0.    -1.     2.001 -1.     0.     0.     0.     0.     0.\n",
      "   0.     0.     0.     0.     0.     0.   ]\n",
      " [ 0.     0.     0.    -1.     2.001 -1.     0.     0.     0.     0.\n",
      "   0.     0.     0.     0.     0.     0.   ]\n",
      " [ 0.     0.     0.     0.    -1.     2.001 -1.     0.     0.     0.\n",
      "   0.     0.     0.     0.     0.     0.   ]\n",
      " [ 0.     0.     0.     0.     0.    -1.     2.001 -1.     0.     0.\n",
      "   0.     0.     0.     0.     0.     0.   ]\n",
      " [ 0.     0.     0.     0.     0.     0.    -1.     2.001 -1.     0.\n",
      "   0.     0.     0.     0.     0.     0.   ]\n",
      " [ 0.     0.     0.     0.     0.     0.     0.    -1.     2.001 -1.\n",
      "   0.     0.     0.     0.     0.     0.   ]\n",
      " [ 0.     0.     0.     0.     0.     0.     0.     0.    -1.     2.001\n",
      "  -1.     0.     0.     0.     0.     0.   ]\n",
      " [ 0.     0.     0.     0.     0.     0.     0.     0.     0.    -1.\n",
      "   2.001 -1.     0.     0.     0.     0.   ]\n",
      " [ 0.     0.     0.     0.     0.     0.     0.     0.     0.     0.\n",
      "  -1.     2.001 -1.     0.     0.     0.   ]\n",
      " [ 0.     0.     0.     0.     0.     0.     0.     0.     0.     0.\n",
      "   0.    -1.     2.001 -1.     0.     0.   ]\n",
      " [ 0.     0.     0.     0.     0.     0.     0.     0.     0.     0.\n",
      "   0.     0.    -1.     2.001 -1.     0.   ]\n",
      " [ 0.     0.     0.     0.     0.     0.     0.     0.     0.     0.\n",
      "   0.     0.     0.    -1.     2.001 -1.   ]\n",
      " [-1.     0.     0.     0.     0.     0.     0.     0.     0.     0.\n",
      "   0.     0.     0.     0.    -1.     2.001]]\n",
      "[ 0.25  0.25  0.25  0.25  0.25  0.25  0.25  0.25 -0.25 -0.25 -0.25 -0.25\n",
      " -0.25 -0.25 -0.25 -0.25]\n",
      "[ 0.49726763  1.24230017  1.73857501  1.98658842  1.98658842  1.73857501\n",
      "  1.24230017  0.49726763 -0.49726763 -1.24230017 -1.73857501 -1.98658842\n",
      " -1.98658842 -1.73857501 -1.24230017 -0.49726763]\n",
      "[ 0.49726763  1.24230017  1.73857501  1.98658842  1.98658842  1.73857501\n",
      "  1.24230017  0.49726763 -0.49726763 -1.24230017 -1.73857501 -1.98658842\n",
      " -1.98658842 -1.73857501 -1.24230017 -0.49726763]\n"
     ]
    }
   ],
   "source": [
    "print(np.asmatrix(get_A_matrix()))\n",
    "print(np.array(f_vec).real)\n",
    "import scipy\n",
    "\n",
    "Ainv = np.linalg.inv(get_A_matrix())\n",
    "s1 = Ainv @ f_vec.real\n",
    "s2 = scipy.linalg.solve(get_A_matrix(), f_vec.real)\n",
    "print(s1)\n",
    "print(s2)"
   ]
  },
  {
   "cell_type": "code",
   "execution_count": null,
   "metadata": {},
   "outputs": [],
   "source": []
  },
  {
   "cell_type": "code",
   "execution_count": 66,
   "metadata": {},
   "outputs": [
    {
     "data": {
      "text/plain": [
       "(<Figure size 640x480 with 1 Axes>,\n",
       " <Axes: xlabel='Node number', ylabel='Components of solution'>)"
      ]
     },
     "execution_count": 66,
     "metadata": {},
     "output_type": "execute_result"
    },
    {
     "data": {
      "image/png": "[encoded data removed]",
      "text/plain": [
       "<Figure size 640x480 with 1 Axes>"
      ]
     },
     "metadata": {},
     "output_type": "display_data"
    }
   ],
   "source": [
    "def plot_solution(cl_sol):\n",
    "\n",
    "    fig = plt.figure()\n",
    "    ax = fig.add_subplot(111)\n",
    "    ax.plot(cl_sol, label='classical', color='black', linestyle='dashed')\n",
    "    ax.legend()\n",
    "    ax.set_xlabel('Node number')\n",
    "    ax.set_ylabel('Components of solution')\n",
    "\n",
    "    cnorm = np.linalg.norm(cl_sol)\n",
    "\n",
    "    ax.text(0.55, 0.55, 'Norm (classical) = %.1f'%(cnorm), transform=ax.transAxes)\n",
    "    \n",
    "    return fig, ax\n",
    "\n",
    "plot_solution(s1)"
   ]
  },
  {
   "cell_type": "code",
   "execution_count": 67,
   "metadata": {},
   "outputs": [
    {
     "data": {
      "text/plain": [
       "(<Figure size 640x480 with 1 Axes>,\n",
       " <Axes: xlabel='Node number', ylabel='Components of solution'>)"
      ]
     },
     "execution_count": 67,
     "metadata": {},
     "output_type": "execute_result"
    },
    {
     "data": {
      "image/png": "[encoded data removed]",
      "text/plain": [
       "<Figure size 640x480 with 1 Axes>"
      ]
     },
     "metadata": {},
     "output_type": "display_data"
    }
   ],
   "source": [
    "plot_solution(s2)"
   ]
  },
  {
   "cell_type": "code",
   "execution_count": 21,
   "metadata": {},
   "outputs": [
    {
     "data": {
      "text/html": [
       "<pre style=\"word-wrap: normal;white-space: pre;background: #fff0;line-height: 1.1;font-family: &quot;Courier New&quot;,Courier,monospace\">                    ┌───┐\n",
       "q_0: ──■────■────■──┤ X ├\n",
       "       │    │  ┌─┴─┐└───┘\n",
       "q_1: ──■────■──┤ X ├─────\n",
       "       │  ┌─┴─┐└───┘     \n",
       "q_2: ──■──┤ X ├──────────\n",
       "     ┌─┴─┐└───┘          \n",
       "q_3: ┤ X ├───────────────\n",
       "     └───┘               </pre>"
      ],
      "text/plain": [
       "                    ┌───┐\n",
       "q_0: ──■────■────■──┤ X ├\n",
       "       │    │  ┌─┴─┐└───┘\n",
       "q_1: ──■────■──┤ X ├─────\n",
       "       │  ┌─┴─┐└───┘     \n",
       "q_2: ──■──┤ X ├──────────\n",
       "     ┌─┴─┐└───┘          \n",
       "q_3: ┤ X ├───────────────\n",
       "     └───┘               "
      ]
     },
     "execution_count": 21,
     "metadata": {},
     "output_type": "execute_result"
    }
   ],
   "source": [
    "import qiskit.quantum_info as qi\n",
    "\n",
    "c3 = QuantumCircuit(4)\n",
    "c3.mct([0,1,2], [3])\n",
    "c3.mct([0,1], [2])\n",
    "c3.mct([0], [1])\n",
    "c3.x(0)\n",
    "c3.draw(fold=-1)\n",
    "# print(qi.Operator(c3).data.real)"
   ]
  },
  {
   "cell_type": "code",
   "execution_count": 25,
   "metadata": {},
   "outputs": [
    {
     "name": "stdout",
     "output_type": "stream",
     "text": [
      "Circuit depth: 37\n"
     ]
    },
    {
     "data": {
      "text/html": [
       "<pre style=\"word-wrap: normal;white-space: pre;background: #fff0;line-height: 1.1;font-family: &quot;Courier New&quot;,Courier,monospace\">global phase: 3.7306\n",
       "     ┌─────────┐                                                             »\n",
       "q_0: ┤ Rz(π/8) ├──■─────────────────■─────────────────────■──────────────────»\n",
       "     ├─────────┤┌─┴─┐ ┌──────────┐┌─┴─┐                   │                  »\n",
       "q_1: ┤ Rz(π/8) ├┤ X ├─┤ Rz(-π/8) ├┤ X ├──■────────────────┼───────────────■──»\n",
       "     ├─────────┤└───┘ └──────────┘└───┘┌─┴─┐┌──────────┐┌─┴─┐┌─────────┐┌─┴─┐»\n",
       "q_2: ┤ Rz(π/8) ├───────────────────────┤ X ├┤ Rz(-π/8) ├┤ X ├┤ Rz(π/8) ├┤ X ├»\n",
       "     ├─────────┤┌────┐┌──────────┐     └───┘└──────────┘└───┘└─────────┘└───┘»\n",
       "q_3: ┤ Rz(π/2) ├┤ √X ├┤ Rz(5π/8) ├───────────────────────────────────────────»\n",
       "     └─────────┘└────┘└──────────┘                                           »\n",
       "«                                                                             »\n",
       "«q_0: ──────────────■──────────────────────────────────────────────────────■──»\n",
       "«                   │                                                      │  »\n",
       "«q_1: ──────────────┼─────────────────────■────────────────────────────────┼──»\n",
       "«     ┌──────────┐┌─┴─┐                   │                                │  »\n",
       "«q_2: ┤ Rz(-π/8) ├┤ X ├──■────────────────┼───────────────■────────────────┼──»\n",
       "«     └──────────┘└───┘┌─┴─┐┌──────────┐┌─┴─┐┌─────────┐┌─┴─┐┌──────────┐┌─┴─┐»\n",
       "«q_3: ─────────────────┤ X ├┤ Rz(-π/8) ├┤ X ├┤ Rz(π/8) ├┤ X ├┤ Rz(-π/8) ├┤ X ├»\n",
       "«                      └───┘└──────────┘└───┘└─────────┘└───┘└──────────┘└───┘»\n",
       "«                                                                             »\n",
       "«q_0: ─────────────────────────────────────────────────────────────────────■──»\n",
       "«                                                                          │  »\n",
       "«q_1: ──────────────────────────────■──────────────────────────────────────┼──»\n",
       "«                                   │                  ┌─────────┐ ┌────┐  │  »\n",
       "«q_2: ─────────────■────────────────┼───────────────■──┤ Rz(π/2) ├─┤ √X ├──┼──»\n",
       "«     ┌─────────┐┌─┴─┐┌──────────┐┌─┴─┐┌─────────┐┌─┴─┐├─────────┴┐└────┘┌─┴─┐»\n",
       "«q_3: ┤ Rz(π/8) ├┤ X ├┤ Rz(-π/8) ├┤ X ├┤ Rz(π/8) ├┤ X ├┤ Rz(-π/8) ├──────┤ X ├»\n",
       "«     └─────────┘└───┘└──────────┘└───┘└─────────┘└───┘└──────────┘      └───┘»\n",
       "«                                                                        »\n",
       "«q_0: ───────────────────────────────■────────────────────────────────■──»\n",
       "«                                    │                  ┌─────────┐   │  »\n",
       "«q_1: ─────────────■─────────────────┼───────────────■──┤ Rz(π/4) ├───┼──»\n",
       "«     ┌─────────┐┌─┴─┐ ┌──────────┐┌─┴─┐┌─────────┐┌─┴─┐├─────────┴┐┌─┴─┐»\n",
       "«q_2: ┤ Rz(π/2) ├┤ X ├─┤ Rz(-π/4) ├┤ X ├┤ Rz(π/4) ├┤ X ├┤ Rz(-π/4) ├┤ X ├»\n",
       "«     ├─────────┤├───┴┐├─────────┬┘└───┘└─────────┘└───┘└──────────┘└───┘»\n",
       "«q_3: ┤ Rz(π/2) ├┤ √X ├┤ Rz(π/2) ├───────────────────────────────────────»\n",
       "«     └─────────┘└────┘└─────────┘                                       »\n",
       "«                 ┌─────────┐    ┌───┐   \n",
       "«q_0: ─────■──────┤ Rz(π/4) ├────┤ X ├───\n",
       "«        ┌─┴─┐    ├─────────┴┐   └───┘   \n",
       "«q_1: ───┤ X ├────┤ Rz(-π/4) ├───────────\n",
       "«     ┌──┴───┴───┐└──┬────┬──┘┌─────────┐\n",
       "«q_2: ┤ Rz(3π/4) ├───┤ √X ├───┤ Rz(π/2) ├\n",
       "«     └──────────┘   └────┘   └─────────┘\n",
       "«q_3: ───────────────────────────────────\n",
       "«                                        </pre>"
      ],
      "text/plain": [
       "global phase: 3.7306\n",
       "     ┌─────────┐                                                             »\n",
       "q_0: ┤ Rz(π/8) ├──■─────────────────■─────────────────────■──────────────────»\n",
       "     ├─────────┤┌─┴─┐ ┌──────────┐┌─┴─┐                   │                  »\n",
       "q_1: ┤ Rz(π/8) ├┤ X ├─┤ Rz(-π/8) ├┤ X ├──■────────────────┼───────────────■──»\n",
       "     ├─────────┤└───┘ └──────────┘└───┘┌─┴─┐┌──────────┐┌─┴─┐┌─────────┐┌─┴─┐»\n",
       "q_2: ┤ Rz(π/8) ├───────────────────────┤ X ├┤ Rz(-π/8) ├┤ X ├┤ Rz(π/8) ├┤ X ├»\n",
       "     ├─────────┤┌────┐┌──────────┐     └───┘└──────────┘└───┘└─────────┘└───┘»\n",
       "q_3: ┤ Rz(π/2) ├┤ √X ├┤ Rz(5π/8) ├───────────────────────────────────────────»\n",
       "     └─────────┘└────┘└──────────┘                                           »\n",
       "«                                                                             »\n",
       "«q_0: ──────────────■──────────────────────────────────────────────────────■──»\n",
       "«                   │                                                      │  »\n",
       "«q_1: ──────────────┼─────────────────────■────────────────────────────────┼──»\n",
       "«     ┌──────────┐┌─┴─┐                   │                                │  »\n",
       "«q_2: ┤ Rz(-π/8) ├┤ X ├──■────────────────┼───────────────■────────────────┼──»\n",
       "«     └──────────┘└───┘┌─┴─┐┌──────────┐┌─┴─┐┌─────────┐┌─┴─┐┌──────────┐┌─┴─┐»\n",
       "«q_3: ─────────────────┤ X ├┤ Rz(-π/8) ├┤ X ├┤ Rz(π/8) ├┤ X ├┤ Rz(-π/8) ├┤ X ├»\n",
       "«                      └───┘└──────────┘└───┘└─────────┘└───┘└──────────┘└───┘»\n",
       "«                                                                             »\n",
       "«q_0: ─────────────────────────────────────────────────────────────────────■──»\n",
       "«                                                                          │  »\n",
       "«q_1: ──────────────────────────────■──────────────────────────────────────┼──»\n",
       "«                                   │                  ┌─────────┐ ┌────┐  │  »\n",
       "«q_2: ─────────────■────────────────┼───────────────■──┤ Rz(π/2) ├─┤ √X ├──┼──»\n",
       "«     ┌─────────┐┌─┴─┐┌──────────┐┌─┴─┐┌─────────┐┌─┴─┐├─────────┴┐└────┘┌─┴─┐»\n",
       "«q_3: ┤ Rz(π/8) ├┤ X ├┤ Rz(-π/8) ├┤ X ├┤ Rz(π/8) ├┤ X ├┤ Rz(-π/8) ├──────┤ X ├»\n",
       "«     └─────────┘└───┘└──────────┘└───┘└─────────┘└───┘└──────────┘      └───┘»\n",
       "«                                                                        »\n",
       "«q_0: ───────────────────────────────■────────────────────────────────■──»\n",
       "«                                    │                  ┌─────────┐   │  »\n",
       "«q_1: ─────────────■─────────────────┼───────────────■──┤ Rz(π/4) ├───┼──»\n",
       "«     ┌─────────┐┌─┴─┐ ┌──────────┐┌─┴─┐┌─────────┐┌─┴─┐├─────────┴┐┌─┴─┐»\n",
       "«q_2: ┤ Rz(π/2) ├┤ X ├─┤ Rz(-π/4) ├┤ X ├┤ Rz(π/4) ├┤ X ├┤ Rz(-π/4) ├┤ X ├»\n",
       "«     ├─────────┤├───┴┐├─────────┬┘└───┘└─────────┘└───┘└──────────┘└───┘»\n",
       "«q_3: ┤ Rz(π/2) ├┤ √X ├┤ Rz(π/2) ├───────────────────────────────────────»\n",
       "«     └─────────┘└────┘└─────────┘                                       »\n",
       "«                 ┌─────────┐    ┌───┐   \n",
       "«q_0: ─────■──────┤ Rz(π/4) ├────┤ X ├───\n",
       "«        ┌─┴─┐    ├─────────┴┐   └───┘   \n",
       "«q_1: ───┤ X ├────┤ Rz(-π/4) ├───────────\n",
       "«     ┌──┴───┴───┐└──┬────┬──┘┌─────────┐\n",
       "«q_2: ┤ Rz(3π/4) ├───┤ √X ├───┤ Rz(π/2) ├\n",
       "«     └──────────┘   └────┘   └─────────┘\n",
       "«q_3: ───────────────────────────────────\n",
       "«                                        "
      ]
     },
     "execution_count": 25,
     "metadata": {},
     "output_type": "execute_result"
    }
   ],
   "source": [
    "## qiskit transpilation\n",
    "from qiskit import transpile \n",
    "transpiled_qc = transpile(c3,\n",
    "                        basis_gates=['id', 'rz', 'sx', 'x', 'cx'])\n",
    "print(\"Circuit depth: \" + str(transpiled_qc.depth()))\n",
    "transpiled_qc.draw()"
   ]
  },
  {
   "cell_type": "code",
   "execution_count": 22,
   "metadata": {},
   "outputs": [
    {
     "ename": "ValueError",
     "evalue": "Unable to compile circuit with gate larger than max_synthesis_size.\nConsider adjusting it.",
     "output_type": "error",
     "traceback": [
      "\u001b[1;31m---------------------------------------------------------------------------\u001b[0m",
      "\u001b[1;31mValueError\u001b[0m                                Traceback (most recent call last)",
      "\u001b[1;32mc:\\Users\\jlvmi\\OneDrive\\University of Michigan\\Academics\\12. Fall 2023\\QC Research\\Examples\\VQAPoisson\\sample.ipynb Cell 20\u001b[0m line \u001b[0;36m8\n\u001b[0;32m      <a href='vscode-notebook-cell:/c%3A/Users/jlvmi/OneDrive/University%20of%20Michigan/Academics/12.%20Fall%202023/QC%20Research/Examples/VQAPoisson/sample.ipynb#X25sZmlsZQ%3D%3D?line=3'>4</a>\u001b[0m \u001b[39mfrom\u001b[39;00m \u001b[39mbqskit\u001b[39;00m\u001b[39m.\u001b[39;00m\u001b[39mcompiler\u001b[39;00m\u001b[39m.\u001b[39;00m\u001b[39mcompile\u001b[39;00m \u001b[39mimport\u001b[39;00m build_workflow\n\u001b[0;32m      <a href='vscode-notebook-cell:/c%3A/Users/jlvmi/OneDrive/University%20of%20Michigan/Academics/12.%20Fall%202023/QC%20Research/Examples/VQAPoisson/sample.ipynb#X25sZmlsZQ%3D%3D?line=6'>7</a>\u001b[0m c3_bqskit \u001b[39m=\u001b[39m qiskit_to_bqskit(c3)\n\u001b[1;32m----> <a href='vscode-notebook-cell:/c%3A/Users/jlvmi/OneDrive/University%20of%20Michigan/Academics/12.%20Fall%202023/QC%20Research/Examples/VQAPoisson/sample.ipynb#X25sZmlsZQ%3D%3D?line=7'>8</a>\u001b[0m default_opt1_workflow \u001b[39m=\u001b[39m build_workflow(c3_bqskit, optimization_level\u001b[39m=\u001b[39;49m\u001b[39m1\u001b[39;49m)\n\u001b[0;32m      <a href='vscode-notebook-cell:/c%3A/Users/jlvmi/OneDrive/University%20of%20Michigan/Academics/12.%20Fall%202023/QC%20Research/Examples/VQAPoisson/sample.ipynb#X25sZmlsZQ%3D%3D?line=8'>9</a>\u001b[0m \u001b[39mprint\u001b[39m(default_opt1_workflow)\n",
      "File \u001b[1;32mc:\\Users\\jlvmi\\OneDrive\\University of Michigan\\Academics\\12. Fall 2023\\QC Research\\Examples\\Lib\\site-packages\\bqskit\\compiler\\compile.py:672\u001b[0m, in \u001b[0;36mbuild_workflow\u001b[1;34m(input, model, optimization_level, synthesis_epsilon, max_synthesis_size, error_threshold, error_sim_size, seed)\u001b[0m\n\u001b[0;32m    661\u001b[0m     \u001b[39mif\u001b[39;00m \u001b[39minput\u001b[39m\u001b[39m.\u001b[39mnum_qudits \u001b[39m>\u001b[39m max_synthesis_size:\n\u001b[0;32m    662\u001b[0m         \u001b[39mif\u001b[39;00m \u001b[39many\u001b[39m(\n\u001b[0;32m    663\u001b[0m             g\u001b[39m.\u001b[39mnum_qudits \u001b[39m>\u001b[39m max_synthesis_size\n\u001b[0;32m    664\u001b[0m             \u001b[39mand\u001b[39;00m \u001b[39mnot\u001b[39;00m \u001b[39misinstance\u001b[39m(\n\u001b[1;32m   (...)\u001b[0m\n\u001b[0;32m    670\u001b[0m             \u001b[39mfor\u001b[39;00m g \u001b[39min\u001b[39;00m \u001b[39minput\u001b[39m\u001b[39m.\u001b[39mgate_set\n\u001b[0;32m    671\u001b[0m         ):\n\u001b[1;32m--> 672\u001b[0m             \u001b[39mraise\u001b[39;00m \u001b[39mValueError\u001b[39;00m(\n\u001b[0;32m    673\u001b[0m                 \u001b[39m'\u001b[39m\u001b[39mUnable to compile circuit with gate larger than\u001b[39m\u001b[39m'\u001b[39m\n\u001b[0;32m    674\u001b[0m                 \u001b[39m'\u001b[39m\u001b[39m max_synthesis_size.\u001b[39m\u001b[39m\\n\u001b[39;00m\u001b[39mConsider adjusting it.\u001b[39m\u001b[39m'\u001b[39m,\n\u001b[0;32m    675\u001b[0m             )\n\u001b[0;32m    677\u001b[0m     \u001b[39mreturn\u001b[39;00m _circuit_workflow(\n\u001b[0;32m    678\u001b[0m         model,\n\u001b[0;32m    679\u001b[0m         optimization_level,\n\u001b[1;32m   (...)\u001b[0m\n\u001b[0;32m    684\u001b[0m         seed,\n\u001b[0;32m    685\u001b[0m     )\n\u001b[0;32m    687\u001b[0m \u001b[39melif\u001b[39;00m \u001b[39misinstance\u001b[39m(\u001b[39minput\u001b[39m, UnitaryMatrix):\n",
      "\u001b[1;31mValueError\u001b[0m: Unable to compile circuit with gate larger than max_synthesis_size.\nConsider adjusting it."
     ]
    }
   ],
   "source": [
    "# BQSKit tooling\n",
    "import bqskit\n",
    "from bqskit.ext import qiskit_to_bqskit, bqskit_to_qiskit\n",
    "from bqskit.compiler.compile import build_workflow\n",
    "\n",
    "\n",
    "c3_bqskit = qiskit_to_bqskit(c3)\n",
    "default_opt1_workflow = build_workflow(c3_bqskit, optimization_level=1)\n",
    "print(default_opt1_workflow)"
   ]
  },
  {
   "cell_type": "code",
   "execution_count": 23,
   "metadata": {},
   "outputs": [],
   "source": [
    "from bqskit.compiler import Workflow\n",
    "from bqskit.passes import QuickPartitioner, ForEachBlockPass, ScanningGateRemovalPass, UnfoldPass\n",
    "\n",
    "basic_gate_deletion_workflow = Workflow([\n",
    "    QuickPartitioner(3),  # Partition into 3-qubit blocks\n",
    "    ForEachBlockPass(ScanningGateRemovalPass()),  # Apply gate deletion to each block (in parallel)\n",
    "    UnfoldPass(),  # Unfold the blocks back into the original circuit\n",
    "])"
   ]
  },
  {
   "cell_type": "code",
   "execution_count": 26,
   "metadata": {},
   "outputs": [
    {
     "name": "stdout",
     "output_type": "stream",
     "text": [
      "{CCXGate: 1, CNOTGate: 15, XGate: 1, RZGate: 15, HGate: 2}\n",
      "Circuit depth: 29\n"
     ]
    },
    {
     "data": {
      "text/html": [
       "<pre style=\"word-wrap: normal;white-space: pre;background: #fff0;line-height: 1.1;font-family: &quot;Courier New&quot;,Courier,monospace\">     ┌─────────┐                                                             »\n",
       "q_0: ┤ Rz(π/8) ├─────■───────────────────■─────────────────────■─────────────»\n",
       "     ├─────────┤   ┌─┴─┐   ┌──────────┐┌─┴─┐                   │             »\n",
       "q_1: ┤ Rz(π/8) ├───┤ X ├───┤ Rz(-π/8) ├┤ X ├──■────────────────┼─────────────»\n",
       "     ├─────────┤   └───┘   └──────────┘└───┘┌─┴─┐┌──────────┐┌─┴─┐┌─────────┐»\n",
       "q_2: ┤ Rz(π/8) ├────────────────────────────┤ X ├┤ Rz(-π/8) ├┤ X ├┤ Rz(π/8) ├»\n",
       "     └──┬───┬──┘┌─────────┐                 └───┘└──────────┘└───┘└─────────┘»\n",
       "q_3: ───┤ H ├───┤ Rz(π/8) ├──────────────────────────────────────────────────»\n",
       "        └───┘   └─────────┘                                                  »\n",
       "«                                                                             »\n",
       "«q_0: ───────────────────■────────────────────────────────────────────────────»\n",
       "«                        │                                                    »\n",
       "«q_1: ──■────────────────┼─────────────────────■──────────────────────────────»\n",
       "«     ┌─┴─┐┌──────────┐┌─┴─┐                   │                              »\n",
       "«q_2: ┤ X ├┤ Rz(-π/8) ├┤ X ├──■────────────────┼───────────────■──────────────»\n",
       "«     └───┘└──────────┘└───┘┌─┴─┐┌──────────┐┌─┴─┐┌─────────┐┌─┴─┐┌──────────┐»\n",
       "«q_3: ──────────────────────┤ X ├┤ Rz(-π/8) ├┤ X ├┤ Rz(π/8) ├┤ X ├┤ Rz(-π/8) ├»\n",
       "«                           └───┘└──────────┘└───┘└─────────┘└───┘└──────────┘»\n",
       "«                                                                            »\n",
       "«q_0: ──■─────────────────────────────────────────────────────────────────■──»\n",
       "«       │                                                                 │  »\n",
       "«q_1: ──┼────────────────────────────────■────────────────────────────────┼──»\n",
       "«       │                                │                                │  »\n",
       "«q_2: ──┼───────────────■────────────────┼───────────────■────────────────┼──»\n",
       "«     ┌─┴─┐┌─────────┐┌─┴─┐┌──────────┐┌─┴─┐┌─────────┐┌─┴─┐┌──────────┐┌─┴─┐»\n",
       "«q_3: ┤ X ├┤ Rz(π/8) ├┤ X ├┤ Rz(-π/8) ├┤ X ├┤ Rz(π/8) ├┤ X ├┤ Rz(-π/8) ├┤ X ├»\n",
       "«     └───┘└─────────┘└───┘└──────────┘└───┘└─────────┘└───┘└──────────┘└───┘»\n",
       "«               ┌───┐\n",
       "«q_0: ──■────■──┤ X ├\n",
       "«       │  ┌─┴─┐└───┘\n",
       "«q_1: ──■──┤ X ├─────\n",
       "«     ┌─┴─┐└───┘     \n",
       "«q_2: ┤ X ├──────────\n",
       "«     ├───┤          \n",
       "«q_3: ┤ H ├──────────\n",
       "«     └───┘          </pre>"
      ],
      "text/plain": [
       "     ┌─────────┐                                                             »\n",
       "q_0: ┤ Rz(π/8) ├─────■───────────────────■─────────────────────■─────────────»\n",
       "     ├─────────┤   ┌─┴─┐   ┌──────────┐┌─┴─┐                   │             »\n",
       "q_1: ┤ Rz(π/8) ├───┤ X ├───┤ Rz(-π/8) ├┤ X ├──■────────────────┼─────────────»\n",
       "     ├─────────┤   └───┘   └──────────┘└───┘┌─┴─┐┌──────────┐┌─┴─┐┌─────────┐»\n",
       "q_2: ┤ Rz(π/8) ├────────────────────────────┤ X ├┤ Rz(-π/8) ├┤ X ├┤ Rz(π/8) ├»\n",
       "     └──┬───┬──┘┌─────────┐                 └───┘└──────────┘└───┘└─────────┘»\n",
       "q_3: ───┤ H ├───┤ Rz(π/8) ├──────────────────────────────────────────────────»\n",
       "        └───┘   └─────────┘                                                  »\n",
       "«                                                                             »\n",
       "«q_0: ───────────────────■────────────────────────────────────────────────────»\n",
       "«                        │                                                    »\n",
       "«q_1: ──■────────────────┼─────────────────────■──────────────────────────────»\n",
       "«     ┌─┴─┐┌──────────┐┌─┴─┐                   │                              »\n",
       "«q_2: ┤ X ├┤ Rz(-π/8) ├┤ X ├──■────────────────┼───────────────■──────────────»\n",
       "«     └───┘└──────────┘└───┘┌─┴─┐┌──────────┐┌─┴─┐┌─────────┐┌─┴─┐┌──────────┐»\n",
       "«q_3: ──────────────────────┤ X ├┤ Rz(-π/8) ├┤ X ├┤ Rz(π/8) ├┤ X ├┤ Rz(-π/8) ├»\n",
       "«                           └───┘└──────────┘└───┘└─────────┘└───┘└──────────┘»\n",
       "«                                                                            »\n",
       "«q_0: ──■─────────────────────────────────────────────────────────────────■──»\n",
       "«       │                                                                 │  »\n",
       "«q_1: ──┼────────────────────────────────■────────────────────────────────┼──»\n",
       "«       │                                │                                │  »\n",
       "«q_2: ──┼───────────────■────────────────┼───────────────■────────────────┼──»\n",
       "«     ┌─┴─┐┌─────────┐┌─┴─┐┌──────────┐┌─┴─┐┌─────────┐┌─┴─┐┌──────────┐┌─┴─┐»\n",
       "«q_3: ┤ X ├┤ Rz(π/8) ├┤ X ├┤ Rz(-π/8) ├┤ X ├┤ Rz(π/8) ├┤ X ├┤ Rz(-π/8) ├┤ X ├»\n",
       "«     └───┘└─────────┘└───┘└──────────┘└───┘└─────────┘└───┘└──────────┘└───┘»\n",
       "«               ┌───┐\n",
       "«q_0: ──■────■──┤ X ├\n",
       "«       │  ┌─┴─┐└───┘\n",
       "«q_1: ──■──┤ X ├─────\n",
       "«     ┌─┴─┐└───┘     \n",
       "«q_2: ┤ X ├──────────\n",
       "«     ├───┤          \n",
       "«q_3: ┤ H ├──────────\n",
       "«     └───┘          "
      ]
     },
     "execution_count": 26,
     "metadata": {},
     "output_type": "execute_result"
    }
   ],
   "source": [
    "from bqskit.compiler import Compiler\n",
    "\n",
    "with Compiler() as compiler:\n",
    "    opt_circuit = compiler.compile(qiskit_to_bqskit(c3), workflow=basic_gate_deletion_workflow)\n",
    "\n",
    "print(opt_circuit.gate_counts)\n",
    "c3_opt = bqskit_to_qiskit(opt_circuit)\n",
    "print(\"Circuit depth: \" + str(c3_opt.depth()))\n",
    "c3_opt.draw()"
   ]
  },
  {
   "cell_type": "code",
   "execution_count": null,
   "metadata": {},
   "outputs": [],
   "source": []
  }
 ],
 "metadata": {
  "kernelspec": {
   "display_name": "Examples",
   "language": "python",
   "name": "python3"
  },
  "language_info": {
   "codemirror_mode": {
    "name": "ipython",
    "version": 3
   },
   "file_extension": ".py",
   "mimetype": "text/x-python",
   "name": "python",
   "nbconvert_exporter": "python",
   "pygments_lexer": "ipython3",
   "version": "3.11.6"
  }
 },
 "nbformat": 4,
 "nbformat_minor": 4
}
