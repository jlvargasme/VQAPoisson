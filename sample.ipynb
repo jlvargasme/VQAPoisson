{
 "cells": [
  {
   "cell_type": "code",
   "execution_count": 1,
   "metadata": {},
   "outputs": [
    {
     "data": {
      "text/html": [
       "<h3>Version Information</h3><table><tr><th>Software</th><th>Version</th></tr><tr><td><code>qiskit</code></td><td>0.44.1</td></tr><tr><td><code>qiskit-terra</code></td><td>0.25.1</td></tr><tr><th colspan='2'>System information</th></tr><tr><td>Python version</td><td>3.11.6</td></tr><tr><td>Python compiler</td><td>MSC v.1935 64 bit (AMD64)</td></tr><tr><td>Python build</td><td>tags/v3.11.6:8b6ee5b, Oct  2 2023 14:57:12</td></tr><tr><td>OS</td><td>Windows</td></tr><tr><td>CPUs</td><td>24</td></tr><tr><td>Memory (Gb)</td><td>15.643688201904297</td></tr><tr><td colspan='2'>Tue Feb 06 20:20:25 2024 Eastern Standard Time</td></tr></table>"
      ],
      "text/plain": [
       "<IPython.core.display.HTML object>"
      ]
     },
     "metadata": {},
     "output_type": "display_data"
    }
   ],
   "source": [
    "# %pip install qiskit\n",
    "# %pip install qiskit-aer\n",
    "\n",
    "import qiskit.tools.jupyter\n",
    "%qiskit_version_table"
   ]
  },
  {
   "cell_type": "code",
   "execution_count": 1,
   "metadata": {},
   "outputs": [],
   "source": [
    "import time\n",
    "\n",
    "import numpy as np\n",
    "import matplotlib.pyplot as plt\n",
    "from tqdm.auto import tqdm\n",
    "from qiskit import QuantumCircuit, Aer\n",
    "from qiskit.utils import QuantumInstance\n",
    "from qiskit import transpile \n",
    "\n",
    "# Import from Qiskit Aer noise module\n",
    "from qiskit_aer.noise import (NoiseModel, QuantumError, ReadoutError,\n",
    "    pauli_error, depolarizing_error, thermal_relaxation_error)\n",
    "\n",
    "# VQA Poisson\n",
    "from vqa_poisson import VQAforPoisson\n"
   ]
  },
  {
   "cell_type": "markdown",
   "metadata": {},
   "source": [
    "## Experiments"
   ]
  },
  {
   "cell_type": "code",
   "execution_count": 2,
   "metadata": {},
   "outputs": [],
   "source": [
    "def create_initial_state(N):\n",
    "    x = np.linspace(0,1,N)\n",
    "    y = np.cos(x)\n",
    "    y = y / np.linalg.norm(y)\n",
    "    \n",
    "    return y\n",
    "\n",
    "def experiment(bc, num_trials, num_qubits_list, num_layers, qins, optimze=False):\n",
    "    \n",
    "    print('-----------'+bc+' boundary condition --------------')\n",
    "    \n",
    "    data = {'num_qubits':[], 'obj_count':[], 'circ_count':[], 'iter_count':[], 'err':[], 'params':[], 'q_sol':[], 'cl_sol':[]}\n",
    "    \n",
    "    for num_qubits in tqdm(num_qubits_list):\n",
    "        print('-------------------------')\n",
    "        print('num_qubits:', num_qubits)\n",
    "        \n",
    "        # set oracle for f vector\n",
    "        oracle_f = QuantumCircuit(num_qubits)\n",
    "        oracle_f.x(num_qubits-1)\n",
    "        oracle_f.h(oracle_f.qubits)\n",
    "\n",
    "        # change oracle to cosine function\n",
    "        # y = create_initial_state(2**num_qubits)\n",
    "        # init_f = QuantumCircuit(num_qubits)\n",
    "        # init_f.initialize(y, range(0,num_qubits))\n",
    "\n",
    "        # Transpile the composed circuit for execution\n",
    "        # oracle_f = transpile(init_f, optimization_level=3)\n",
    "\n",
    "    \n",
    "        # set vqa instance\n",
    "        vqa = VQAforPoisson(num_qubits, num_layers, bc, oracle_f=oracle_f, qinstance=qins, optimize_shift=optimze)\n",
    "\n",
    "\n",
    "        obj_counts = []\n",
    "        circ_counts = []\n",
    "        iter_counts = []\n",
    "        err = []\n",
    "        params = []\n",
    "        q_sol = []\n",
    "    \n",
    "        for seed in range(num_trials):\n",
    "        \n",
    "            np.random.seed(seed)\n",
    "            x0 = list(4*np.pi*np.random.rand(vqa.num_params))\n",
    "            # converged solution\n",
    "#             x0 = [6.38264275902757471925497156917117536067962646484375,\n",
    "# 8.71081760647049208046155399642884731292724609375000,\n",
    "# 7.20155899228167584169568726792931556701660156250000,\n",
    "# 6.68731466754961001441870394046418368816375732421875,\n",
    "# 4.84059748913640675027636461891233921051025390625000,\n",
    "# 7.01263257532668138338749486138112843036651611328125,\n",
    "# 4.92084156658383520266397681552916765213012695312500,\n",
    "# 10.53187877792020721301469166064634919166564941406250,\n",
    "# 12.54619094133973256077752012060955166816711425781250,\n",
    "# 4.06856663930137507634299254277721047401428222656250,\n",
    "# 10.98972975868755419526223704451695084571838378906250,\n",
    "# 6.50613609320823993442672872333787381649017333984375,\n",
    "# 7.69234511925862651793295299285091459751129150390625,\n",
    "# 12.11597323771373879708335152827203273773193359375000,\n",
    "# 1.17211769677697774660884988406905904412269592285156,\n",
    "# 0.59477625319328264463791811067494563758373260498047,\n",
    "# 0.38148111282291702339719563497055787593126296997070,\n",
    "# 10.88287467856012469269444409292191267013549804687500,\n",
    "# 10.39659322661944251819932105718180537223815917968750,\n",
    "# 10.10226310395892568294584634713828563690185546875000,\n",
    "# 12.42411446427315269147584331221878528594970703125000,\n",
    "# 9.58981634057271392634902440477162599563598632812500,\n",
    "# 5.85799763179465493578845780575647950172424316406250,\n",
    "# 8.96085644821462778963905293494462966918945312500000,\n",
    "# 1.49836136330958979989702584134647622704505920410156,\n",
    "# 8.02503514946669405105694750091060996055603027343750,\n",
    "# 2.67080490488173527552362429560162127017974853515625,\n",
    "# 12.29937231520662521688791457563638687133789062500000,\n",
    "# 7.16844938251152452579617602168582379817962646484375,\n",
    "# 4.87774562533375899420207133516669273376464843750000,\n",
    "# 3.56258469511675635033043363364413380622863769531250,\n",
    "# 10.69383531226024963700638181762769818305969238281250,\n",
    "# 5.77682222434608672045897037605755031108856201171875, \n",
    "# 7.40450399561230465650396581622771918773651123046875 ]\n",
    "            \n",
    "            print(x0)\n",
    "            #vqa.print_matrix(x0)\n",
    "            \n",
    "            res = vqa.minimize(x0, method='powell', save_logs=True)\n",
    "            \n",
    "    \n",
    "            obj_counts.append(vqa.objective_counts)\n",
    "            circ_counts.append(vqa.circuit_counts)\n",
    "            iter_counts.append(len(vqa.objective_count_logs))\n",
    "            err.append(vqa.get_errors(res['x'])['trace'])\n",
    "            params.append(res['x'])\n",
    "            q_sol.append(vqa.get_sol(res['x']).real)\n",
    "            # vqa.print_matrix(res['x'])\n",
    "            \n",
    "            print('trial:', seed, 'Err.:', err[-1])\n",
    "        \n",
    "        data['num_qubits'].append(num_qubits)\n",
    "        data['obj_count'].append(obj_counts)\n",
    "        data['circ_count'].append(circ_counts)\n",
    "        data['iter_count'].append(iter_counts)\n",
    "        data['err'].append(err)\n",
    "        data['params'].append(params)\n",
    "        data['q_sol'].append(q_sol)\n",
    "        data['cl_sol'].append(vqa.get_cl_sol().real)\n",
    "        \n",
    "    return data"
   ]
  },
  {
   "cell_type": "code",
   "execution_count": 3,
   "metadata": {},
   "outputs": [
    {
     "name": "stdout",
     "output_type": "stream",
     "text": [
      "NoiseModel:\n",
      "  Basis gates: ['cx', 'id', 'rz', 'sx', 'u1', 'u2', 'u3']\n",
      "  Instructions with noise: ['rz', 'u1', 'cx', 'u3', 'id', 'u2', 'sx']\n",
      "  All-qubits errors: ['id', 'rz', 'sx', 'u1', 'u2', 'u3', 'cx']\n"
     ]
    }
   ],
   "source": [
    "# create noise model parameterized by pError\n",
    "noise_model = NoiseModel()\n",
    "pError = 0.0007\n",
    "error1q = depolarizing_error(pError, 1)\n",
    "error2q = depolarizing_error(pError, 2)\n",
    "\n",
    "noise_model.add_all_qubit_quantum_error(error1q, ['id', 'rz', 'sx', 'u1', 'u2', 'u3'])\n",
    "noise_model.add_all_qubit_quantum_error(error2q, ['cx'])\n",
    "print(noise_model)"
   ]
  },
  {
   "cell_type": "code",
   "execution_count": 11,
   "metadata": {},
   "outputs": [
    {
     "name": "stdout",
     "output_type": "stream",
     "text": [
      "-----------Periodic boundary condition --------------\n"
     ]
    },
    {
     "name": "stderr",
     "output_type": "stream",
     "text": [
      "C:\\Users\\jlvmi\\AppData\\Local\\Temp\\ipykernel_2416\\3802815273.py:8: DeprecationWarning: The class ``qiskit.utils.quantum_instance.QuantumInstance`` is deprecated as of qiskit-terra 0.24.0. It will be removed no earlier than 3 months after the release date. For code migration guidelines, visit https://qisk.it/qi_migration.\n",
      "  qins = QuantumInstance(Aer.get_backend('qasm_simulator'), seed_transpiler=42, noise_model=noise_model, shots=10000)\n"
     ]
    },
    {
     "data": {
      "application/vnd.jupyter.widget-view+json": {
       "model_id": "c7eae4ca407744eea1e6eabadbb4ca30",
       "version_major": 2,
       "version_minor": 0
      },
      "text/plain": [
       "  0%|          | 0/1 [00:00<?, ?it/s]"
      ]
     },
     "metadata": {},
     "output_type": "display_data"
    },
    {
     "name": "stderr",
     "output_type": "stream",
     "text": [
      "c:\\Users\\jlvmi\\OneDrive\\University of Michigan\\Academics\\12. Fall 2023\\QC Research\\Examples\\Lib\\site-packages\\scipy\\optimize\\_minimize.py:560: RuntimeWarning: Method powell does not use gradient information (jac).\n",
      "  warn('Method %s does not use gradient information (jac).' % method,\n"
     ]
    },
    {
     "name": "stdout",
     "output_type": "stream",
     "text": [
      "-------------------------\n",
      "num_qubits: 4\n",
      "[6.896593888515826, 8.987334637284528, 7.574547976478632, 6.847204019070697, 5.323803221044644, 8.116544802428407, 5.498883072830878, 11.206350031706826, 12.109743395712375, 4.8184682344975025, 9.949110253214393, 6.646289577666751, 7.1382584801773445, 11.63139039619053, 0.8926654342978345, 1.0948990714191347, 0.2540718754635438, 10.463009560025881, 9.77860612850141, 10.932895093864325, 12.297680778506693, 10.042522697586502, 5.799120696948454, 9.808418904536085, 1.4862802696695647, 8.041484717920905, 1.8014305383688254, 11.871059719510393, 6.557739415592751, 5.210795617590082, 3.324503869815388, 9.729307483553026, 5.73215413049621, 7.143151671267129]\n"
     ]
    }
   ],
   "source": [
    "t0 = time.time()\n",
    "# optimizer = 'spsa'\n",
    "num_layers = 5\n",
    "num_trials = 1\n",
    "num_qubits_list = [4]\n",
    "optimize_shift=True\n",
    "# create instance with noise here\n",
    "qins = QuantumInstance(Aer.get_backend('qasm_simulator'), seed_transpiler=42, noise_model=noise_model, shots=10000)\n",
    "\n",
    "# bc: Periodic\n",
    "data_p = experiment('Periodic', num_trials, num_qubits_list, num_layers, qins, optimze=optimize_shift)"
   ]
  },
  {
   "cell_type": "markdown",
   "metadata": {},
   "source": [
    "## plots"
   ]
  },
  {
   "cell_type": "markdown",
   "metadata": {},
   "source": [
    "### distribution of solutions"
   ]
  },
  {
   "cell_type": "code",
   "execution_count": 6,
   "metadata": {},
   "outputs": [],
   "source": [
    "def global2grid(cl_sol):\n",
    "    N = len(cl_sol)\n",
    "    n = int(np.sqrt(N))\n",
    "    F = np.zeros((n,n))\n",
    "\n",
    "    for i in range(N):\n",
    "        xi = int(np.floor(i/n))\n",
    "        yi = int(i % n)\n",
    "        F[xi,yi] = cl_sol[i]\n",
    "\n",
    "    return F\n",
    "\n",
    "def plot_solution_vectors(q_sol, cl_sol):\n",
    "\n",
    "    fig = plt.figure()\n",
    "    ax = fig.add_subplot(111)\n",
    "    ax.plot(q_sol, label='quantum', color='blue')\n",
    "    ax.plot(cl_sol, label='classical', color='black', linestyle='dashed')\n",
    "    ax.legend()\n",
    "    ax.set_xlabel('Node number')\n",
    "    ax.set_ylabel('Components of solution')\n",
    "\n",
    "    cnorm = np.linalg.norm(q_sol)\n",
    "    qnorm = np.linalg.norm(cl_sol)\n",
    "\n",
    "    ax.text(0.55, 0.65, 'Norm (quantum) = %.1f'%(qnorm), transform=ax.transAxes)\n",
    "    ax.text(0.55, 0.55, 'Norm (classical) = %.1f'%(cnorm), transform=ax.transAxes)\n",
    "\n",
    "    # Save the figure as a PDF\n",
    "    fig.savefig('solution_vectors.pdf', format='pdf')\n",
    "    \n",
    "    return fig, ax\n",
    "\n",
    "def plot_solution_vectors_2D(q_sol, cl_sol, N):\n",
    "    \n",
    "    x = np.linspace(0, 1, N)\n",
    "    y = np.linspace(0, 1, N)\n",
    "\n",
    "    x, y = np.meshgrid(x, y) \n",
    "  \n",
    "    F = global2grid(q_sol)\n",
    "\n",
    "    fig, ax = plt.subplots(subplot_kw={\"projection\": \"3d\"})\n",
    "    ax.plot_surface(x, y, F) \n",
    "    \n",
    "    return fig, ax"
   ]
  },
  {
   "cell_type": "code",
   "execution_count": 7,
   "metadata": {},
   "outputs": [
    {
     "data": {
      "text/plain": [
       "{'num_qubits': [4],\n",
       " 'obj_count': [[0]],\n",
       " 'circ_count': [[2802]],\n",
       " 'iter_count': [[2]],\n",
       " 'err': [[0.9634710319391909]],\n",
       " 'params': [[array([ 8.1580134 ,  8.25364673,  7.956514  ,  6.43556263,  4.17790521,\n",
       "          12.20906414,  6.48643656, 12.56503832, 11.43727385,  5.37061023,\n",
       "           9.96288752,  7.61665438,  9.87434296, 13.6213904 ,  2.95072866,\n",
       "           4.20742973,  1.10762259,  9.81482696, 11.40558747,  9.72497823,\n",
       "          17.56402935, 11.54853249,  6.9801037 , 13.0444869 ,  3.1428214 ,\n",
       "           9.18738274,  3.65553251, 14.90550156, 10.27484797,  6.15288882,\n",
       "           7.47810333, 10.96478611, 11.47128295,  8.06702585])]],\n",
       " 'q_sol': [[array([-0.0112838 , -0.00989082,  0.00086115, -0.03925394,  0.02849884,\n",
       "           0.04364994,  0.0365178 ,  0.04634467, -0.01579644, -0.00999474,\n",
       "          -0.02019857,  0.02119861, -0.02601731,  0.03532601, -0.06611273,\n",
       "          -0.01171907])]],\n",
       " 'cl_sol': [array([ 0.49726763,  1.24230017,  1.73857501,  1.98658842,  1.98658842,\n",
       "          1.73857501,  1.24230017,  0.49726763, -0.49726763, -1.24230017,\n",
       "         -1.73857501, -1.98658842, -1.98658842, -1.73857501, -1.24230017,\n",
       "         -0.49726763])]}"
      ]
     },
     "execution_count": 7,
     "metadata": {},
     "output_type": "execute_result"
    }
   ],
   "source": [
    "idx1, idx2 = 0, 0\n",
    "# for i in range(0,len(data_p['params'][0][0])):\n",
    "#     print('%.50f' % data_p['params'][0][0][i])\n",
    "data_p"
   ]
  },
  {
   "cell_type": "code",
   "execution_count": 10,
   "metadata": {},
   "outputs": [
    {
     "name": "stdout",
     "output_type": "stream",
     "text": [
      "Periodic boundary condition, num_qubits: 4\n",
      "[ 0.23241543  0.49976651  0.77524762  0.32464572  0.43857275  0.52154169\n",
      "  0.4189167   0.21230471  0.07075001 -0.15020045 -0.63384496 -0.37509224\n",
      " -0.50962932 -0.85538336 -0.54849549  0.23136499]\n"
     ]
    },
    {
     "data": {
      "image/png": "[encoded data removed]",
      "text/plain": [
       "<Figure size 640x480 with 1 Axes>"
      ]
     },
     "metadata": {},
     "output_type": "display_data"
    }
   ],
   "source": [
    "print('Periodic boundary condition, num_qubits:', data_p['num_qubits'][idx1])\n",
    "q_sol = data_p['q_sol'][idx1][idx2]\n",
    "cl_sol = data_p['cl_sol'][idx1]\n",
    "plot_solution_vectors(q_sol, cl_sol)\n",
    "# plot_solution_vectors_2D(q_sol, cl_sol, 1)\n",
    "print(q_sol)"
   ]
  },
  {
   "cell_type": "code",
   "execution_count": 8,
   "metadata": {},
   "outputs": [
    {
     "name": "stdout",
     "output_type": "stream",
     "text": [
      "elapsed time: 5.50e+02\n"
     ]
    }
   ],
   "source": [
    "print('elapsed time: %.2e'%(time.time() - t0))"
   ]
  },
  {
   "cell_type": "code",
   "execution_count": 11,
   "metadata": {},
   "outputs": [
    {
     "data": {
      "text/html": [
       "<pre style=\"word-wrap: normal;white-space: pre;background: #fff0;line-height: 1.1;font-family: &quot;Courier New&quot;,Courier,monospace\">     ┌───┐     \n",
       "q_0: ┤ H ├─────\n",
       "     ├───┤     \n",
       "q_1: ┤ H ├─────\n",
       "     ├───┤     \n",
       "q_2: ┤ H ├─────\n",
       "     ├───┤┌───┐\n",
       "q_3: ┤ X ├┤ H ├\n",
       "     └───┘└───┘</pre>"
      ],
      "text/plain": [
       "     ┌───┐     \n",
       "q_0: ┤ H ├─────\n",
       "     ├───┤     \n",
       "q_1: ┤ H ├─────\n",
       "     ├───┤     \n",
       "q_2: ┤ H ├─────\n",
       "     ├───┤┌───┐\n",
       "q_3: ┤ X ├┤ H ├\n",
       "     └───┘└───┘"
      ]
     },
     "execution_count": 11,
     "metadata": {},
     "output_type": "execute_result"
    }
   ],
   "source": [
    "oracle_f = QuantumCircuit(4)\n",
    "oracle_f.x(4-1)\n",
    "oracle_f.h(oracle_f.qubits)\n",
    "oracle_f.draw(fold=-1)"
   ]
  },
  {
   "cell_type": "code",
   "execution_count": 57,
   "metadata": {},
   "outputs": [],
   "source": [
    "from qiskit import execute, Aer\n",
    "\n",
    "f_vec = np.array(execute(oracle_f, Aer.get_backend('statevector_simulator')).result().get_statevector())"
   ]
  },
  {
   "cell_type": "code",
   "execution_count": 64,
   "metadata": {},
   "outputs": [],
   "source": [
    "def get_A_matrix():\n",
    "    num_qubits = 4\n",
    "\n",
    "    I0 = np.array([[1, 0], [0, 0]])\n",
    "    I = np.array([[1, 0], [0, 1]])\n",
    "    X = np.array([[0, 1], [1, 0]])\n",
    "\n",
    "    P = np.zeros((2**num_qubits, 2**num_qubits))\n",
    "    for i in range(2**num_qubits):\n",
    "        P[(i+1)%(2**num_qubits), i] = 1\n",
    "\n",
    "    A0 = I - X\n",
    "    for i in range(num_qubits-1):\n",
    "        A0 = np.kron(I, A0)\n",
    "    A1 = P.T @ A0 @ P\n",
    "\n",
    "    A = A0 + A1 + (1e-3)*np.eye(2**num_qubits)\n",
    "\n",
    "    return A"
   ]
  },
  {
   "cell_type": "code",
   "execution_count": 65,
   "metadata": {},
   "outputs": [
    {
     "name": "stdout",
     "output_type": "stream",
     "text": [
      "[[ 2.001 -1.     0.     0.     0.     0.     0.     0.     0.     0.\n",
      "   0.     0.     0.     0.     0.    -1.   ]\n",
      " [-1.     2.001 -1.     0.     0.     0.     0.     0.     0.     0.\n",
      "   0.     0.     0.     0.     0.     0.   ]\n",
      " [ 0.    -1.     2.001 -1.     0.     0.     0.     0.     0.     0.\n",
      "   0.     0.     0.     0.     0.     0.   ]\n",
      " [ 0.     0.    -1.     2.001 -1.     0.     0.     0.     0.     0.\n",
      "   0.     0.     0.     0.     0.     0.   ]\n",
      " [ 0.     0.     0.    -1.     2.001 -1.     0.     0.     0.     0.\n",
      "   0.     0.     0.     0.     0.     0.   ]\n",
      " [ 0.     0.     0.     0.    -1.     2.001 -1.     0.     0.     0.\n",
      "   0.     0.     0.     0.     0.     0.   ]\n",
      " [ 0.     0.     0.     0.     0.    -1.     2.001 -1.     0.     0.\n",
      "   0.     0.     0.     0.     0.     0.   ]\n",
      " [ 0.     0.     0.     0.     0.     0.    -1.     2.001 -1.     0.\n",
      "   0.     0.     0.     0.     0.     0.   ]\n",
      " [ 0.     0.     0.     0.     0.     0.     0.    -1.     2.001 -1.\n",
      "   0.     0.     0.     0.     0.     0.   ]\n",
      " [ 0.     0.     0.     0.     0.     0.     0.     0.    -1.     2.001\n",
      "  -1.     0.     0.     0.     0.     0.   ]\n",
      " [ 0.     0.     0.     0.     0.     0.     0.     0.     0.    -1.\n",
      "   2.001 -1.     0.     0.     0.     0.   ]\n",
      " [ 0.     0.     0.     0.     0.     0.     0.     0.     0.     0.\n",
      "  -1.     2.001 -1.     0.     0.     0.   ]\n",
      " [ 0.     0.     0.     0.     0.     0.     0.     0.     0.     0.\n",
      "   0.    -1.     2.001 -1.     0.     0.   ]\n",
      " [ 0.     0.     0.     0.     0.     0.     0.     0.     0.     0.\n",
      "   0.     0.    -1.     2.001 -1.     0.   ]\n",
      " [ 0.     0.     0.     0.     0.     0.     0.     0.     0.     0.\n",
      "   0.     0.     0.    -1.     2.001 -1.   ]\n",
      " [-1.     0.     0.     0.     0.     0.     0.     0.     0.     0.\n",
      "   0.     0.     0.     0.    -1.     2.001]]\n",
      "[ 0.25  0.25  0.25  0.25  0.25  0.25  0.25  0.25 -0.25 -0.25 -0.25 -0.25\n",
      " -0.25 -0.25 -0.25 -0.25]\n",
      "[ 0.49726763  1.24230017  1.73857501  1.98658842  1.98658842  1.73857501\n",
      "  1.24230017  0.49726763 -0.49726763 -1.24230017 -1.73857501 -1.98658842\n",
      " -1.98658842 -1.73857501 -1.24230017 -0.49726763]\n",
      "[ 0.49726763  1.24230017  1.73857501  1.98658842  1.98658842  1.73857501\n",
      "  1.24230017  0.49726763 -0.49726763 -1.24230017 -1.73857501 -1.98658842\n",
      " -1.98658842 -1.73857501 -1.24230017 -0.49726763]\n"
     ]
    }
   ],
   "source": [
    "print(np.asmatrix(get_A_matrix()))\n",
    "print(np.array(f_vec).real)\n",
    "import scipy\n",
    "\n",
    "Ainv = np.linalg.inv(get_A_matrix())\n",
    "s1 = Ainv @ f_vec.real\n",
    "s2 = scipy.linalg.solve(get_A_matrix(), f_vec.real)\n",
    "print(s1)\n",
    "print(s2)"
   ]
  },
  {
   "cell_type": "code",
   "execution_count": 138,
   "metadata": {},
   "outputs": [
    {
     "ename": "NameError",
     "evalue": "name 's1' is not defined",
     "output_type": "error",
     "traceback": [
      "\u001b[1;31m---------------------------------------------------------------------------\u001b[0m",
      "\u001b[1;31mNameError\u001b[0m                                 Traceback (most recent call last)",
      "\u001b[1;32mc:\\Users\\jlvmi\\OneDrive\\University of Michigan\\Academics\\12. Fall 2023\\QC Research\\Examples\\VQAPoisson\\sample.ipynb Cell 17\u001b[0m line \u001b[0;36m1\n\u001b[0;32m     <a href='vscode-notebook-cell:/c%3A/Users/jlvmi/OneDrive/University%20of%20Michigan/Academics/12.%20Fall%202023/QC%20Research/Examples/VQAPoisson/sample.ipynb#X22sZmlsZQ%3D%3D?line=11'>12</a>\u001b[0m     ax\u001b[39m.\u001b[39mtext(\u001b[39m0.55\u001b[39m, \u001b[39m0.55\u001b[39m, \u001b[39m'\u001b[39m\u001b[39mNorm (classical) = \u001b[39m\u001b[39m%.1f\u001b[39;00m\u001b[39m'\u001b[39m\u001b[39m%\u001b[39m(cnorm), transform\u001b[39m=\u001b[39max\u001b[39m.\u001b[39mtransAxes)\n\u001b[0;32m     <a href='vscode-notebook-cell:/c%3A/Users/jlvmi/OneDrive/University%20of%20Michigan/Academics/12.%20Fall%202023/QC%20Research/Examples/VQAPoisson/sample.ipynb#X22sZmlsZQ%3D%3D?line=13'>14</a>\u001b[0m     \u001b[39mreturn\u001b[39;00m fig, ax\n\u001b[1;32m---> <a href='vscode-notebook-cell:/c%3A/Users/jlvmi/OneDrive/University%20of%20Michigan/Academics/12.%20Fall%202023/QC%20Research/Examples/VQAPoisson/sample.ipynb#X22sZmlsZQ%3D%3D?line=15'>16</a>\u001b[0m plot_solution(s1)\n",
      "\u001b[1;31mNameError\u001b[0m: name 's1' is not defined"
     ]
    }
   ],
   "source": [
    "def plot_solution(cl_sol):\n",
    "\n",
    "    fig = plt.figure()\n",
    "    ax = fig.add_subplot(111)\n",
    "    ax.plot(cl_sol, label='classical', color='black', linestyle='dashed')\n",
    "    ax.legend()\n",
    "    ax.set_xlabel('Node number')\n",
    "    ax.set_ylabel('Components of solution')\n",
    "\n",
    "    cnorm = np.linalg.norm(cl_sol)\n",
    "\n",
    "    ax.text(0.55, 0.55, 'Norm (classical) = %.1f'%(cnorm), transform=ax.transAxes)\n",
    "    \n",
    "    return fig, ax\n",
    "\n",
    "plot_solution(s1)"
   ]
  },
  {
   "cell_type": "code",
   "execution_count": 139,
   "metadata": {},
   "outputs": [
    {
     "ename": "NameError",
     "evalue": "name 's2' is not defined",
     "output_type": "error",
     "traceback": [
      "\u001b[1;31m---------------------------------------------------------------------------\u001b[0m",
      "\u001b[1;31mNameError\u001b[0m                                 Traceback (most recent call last)",
      "\u001b[1;32mc:\\Users\\jlvmi\\OneDrive\\University of Michigan\\Academics\\12. Fall 2023\\QC Research\\Examples\\VQAPoisson\\sample.ipynb Cell 18\u001b[0m line \u001b[0;36m1\n\u001b[1;32m----> <a href='vscode-notebook-cell:/c%3A/Users/jlvmi/OneDrive/University%20of%20Michigan/Academics/12.%20Fall%202023/QC%20Research/Examples/VQAPoisson/sample.ipynb#X23sZmlsZQ%3D%3D?line=0'>1</a>\u001b[0m plot_solution(s2)\n",
      "\u001b[1;31mNameError\u001b[0m: name 's2' is not defined"
     ]
    }
   ],
   "source": [
    "plot_solution(s2)"
   ]
  }
 ],
 "metadata": {
  "kernelspec": {
   "display_name": "Examples",
   "language": "python",
   "name": "python3"
  },
  "language_info": {
   "codemirror_mode": {
    "name": "ipython",
    "version": 3
   },
   "file_extension": ".py",
   "mimetype": "text/x-python",
   "name": "python",
   "nbconvert_exporter": "python",
   "pygments_lexer": "ipython3",
   "version": "3.11.6"
  }
 },
 "nbformat": 4,
 "nbformat_minor": 4
}
